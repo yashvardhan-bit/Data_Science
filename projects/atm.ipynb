{
 "cells": [
  {
   "cell_type": "markdown",
   "id": "21b2555e",
   "metadata": {},
   "source": [
    "ATM Simulator"
   ]
  },
  {
   "cell_type": "code",
   "execution_count": 22,
   "id": "20454d2f",
   "metadata": {},
   "outputs": [],
   "source": [
    "# contents:\n",
    "#     1.authentication\n",
    "#     2.main menu\n",
    "#     3.balance enquiry\n",
    "#     4.deposit/withrow\n",
    "#     5.exit"
   ]
  },
  {
   "cell_type": "code",
   "execution_count": 23,
   "id": "5deae69f",
   "metadata": {},
   "outputs": [],
   "source": [
    "acc={\n",
    "    \"123456\":{\"pin\":\"1111\",\"balance\":5000.00},\n",
    "    \"098765\":{\"pin\":\"0000\",\"balance\":999.91}\n",
    "}"
   ]
  },
  {
   "cell_type": "code",
   "execution_count": 24,
   "id": "2e967be3",
   "metadata": {},
   "outputs": [],
   "source": [
    "def authenticate(account_no,pin):\n",
    "    if account_no in acc:\n",
    "        if acc[account_no]['pin']==pin:\n",
    "            print(\"login successful\")\n",
    "            return True\n",
    "        else:\n",
    "            print(\"invalid pin\\n please try again\")\n",
    "            return False\n",
    "    else:\n",
    "        print(\"account not found\\n please try again\")\n",
    "        return False"
   ]
  },
  {
   "cell_type": "code",
   "execution_count": 25,
   "id": "33fd8256",
   "metadata": {},
   "outputs": [],
   "source": [
    "def balance(account_no):\n",
    "    balance=acc[account_no][\"balance\"]\n",
    "    print(f\"your current balance is :\\n Rs {balance}\")"
   ]
  },
  {
   "cell_type": "code",
   "execution_count": 26,
   "id": "83be0f0c",
   "metadata": {},
   "outputs": [],
   "source": [
    "def deposit(d_amount):\n",
    "    d_amount=float(input(\"Enter amount to deposit:\\n\"))\n",
    "    if d_amount<=0:\n",
    "        print(\"Invalid amount\")\n",
    "        return\n",
    "    acc[account_no][\"balance\"]+= d_amount\n",
    "    print(f\"Rs{d_amount} has been deposited successfully\")\n",
    "    \n"
   ]
  },
  {
   "cell_type": "code",
   "execution_count": 27,
   "id": "bddf75b1",
   "metadata": {},
   "outputs": [],
   "source": [
    "def withdraw(account_no):\n",
    "    w_amount = float(input(\"Enter amount to withdraw:\\n\"))\n",
    "    if w_amount <= 0:\n",
    "        print(\"Invalid amount\")\n",
    "        return\n",
    "    if w_amount <= acc[account_no][\"balance\"]:\n",
    "        acc[account_no][\"balance\"] -= w_amount\n",
    "        print(f\"Rs{w_amount} is withdrawn from your account\")\n",
    "        check_balance(account_no)\n",
    "    else:\n",
    "        print(\"insufficient balance\")\n",
    "    \n",
    "\n",
    "\n",
    "  \n",
    "\n",
    "\n"
   ]
  },
  {
   "cell_type": "code",
   "execution_count": null,
   "id": "36f5e86f",
   "metadata": {},
   "outputs": [],
   "source": [
    "\n",
    "def main():\n",
    "    print(\"Welcome\")\n",
    "    account_no=int(input(\"enter your account no.:\\n\"))\n",
    "    pin=int(input(\"enter your pin:\\n\"))\n",
    "    \n",
    "    print(\".......MAIN MENU.......\")\n",
    "    print(\"1. check balance\")\n",
    "    print(\"2.deposit money\")\n",
    "    print(\"3.Withdraw money\")\n",
    "    print(\"4.Exit\")\n",
    "    choice = int(input(\"choose an option:\\n\"))\n",
    "\n",
    "    if choice == 1:\n",
    "        balance(account_no)\n",
    "    elif choice == 2:\n",
    "        deposit(account_no)\n",
    "    elif choice == 3:\n",
    "        withdraw(account_no)\n",
    "    elif choice == 4:\n",
    "        print(\"Thank you\")\n",
    "        return\n",
    "    else:\n",
    "        print(\"invalid choice\")\n",
    "        return\n",
    "    \n",
    "    "
   ]
  },
  {
   "cell_type": "code",
   "execution_count": 33,
   "id": "baec30f0",
   "metadata": {},
   "outputs": [
    {
     "name": "stdout",
     "output_type": "stream",
     "text": [
      "Welcome\n",
      ".......MAIN MENU.......\n",
      "1. check balance\n",
      "2.deposit money\n",
      "3.Withdraw money\n",
      "4.Exit\n"
     ]
    },
    {
     "ename": "KeyError",
     "evalue": "123456",
     "output_type": "error",
     "traceback": [
      "\u001b[31m---------------------------------------------------------------------------\u001b[39m",
      "\u001b[31mKeyError\u001b[39m                                  Traceback (most recent call last)",
      "\u001b[36mCell\u001b[39m\u001b[36m \u001b[39m\u001b[32mIn[33]\u001b[39m\u001b[32m, line 1\u001b[39m\n\u001b[32m----> \u001b[39m\u001b[32m1\u001b[39m \u001b[43mmain\u001b[49m\u001b[43m(\u001b[49m\u001b[43m)\u001b[49m\n",
      "\u001b[36mCell\u001b[39m\u001b[36m \u001b[39m\u001b[32mIn[29]\u001b[39m\u001b[32m, line 13\u001b[39m, in \u001b[36mmain\u001b[39m\u001b[34m()\u001b[39m\n\u001b[32m     10\u001b[39m choice = \u001b[38;5;28mint\u001b[39m(\u001b[38;5;28minput\u001b[39m(\u001b[33m\"\u001b[39m\u001b[33mchoose an option:\u001b[39m\u001b[38;5;130;01m\\n\u001b[39;00m\u001b[33m\"\u001b[39m))\n\u001b[32m     12\u001b[39m \u001b[38;5;28;01mif\u001b[39;00m choice == \u001b[32m1\u001b[39m:\n\u001b[32m---> \u001b[39m\u001b[32m13\u001b[39m     \u001b[43mbalance\u001b[49m\u001b[43m(\u001b[49m\u001b[43maccount_no\u001b[49m\u001b[43m)\u001b[49m\n\u001b[32m     14\u001b[39m \u001b[38;5;28;01melif\u001b[39;00m choice == \u001b[32m2\u001b[39m:\n\u001b[32m     15\u001b[39m     deposit(account_no)\n",
      "\u001b[36mCell\u001b[39m\u001b[36m \u001b[39m\u001b[32mIn[25]\u001b[39m\u001b[32m, line 2\u001b[39m, in \u001b[36mbalance\u001b[39m\u001b[34m(account_no)\u001b[39m\n\u001b[32m      1\u001b[39m \u001b[38;5;28;01mdef\u001b[39;00m\u001b[38;5;250m \u001b[39m\u001b[34mbalance\u001b[39m(account_no):\n\u001b[32m----> \u001b[39m\u001b[32m2\u001b[39m     balance=\u001b[43macc\u001b[49m\u001b[43m[\u001b[49m\u001b[43maccount_no\u001b[49m\u001b[43m]\u001b[49m[\u001b[33m\"\u001b[39m\u001b[33mbalance\u001b[39m\u001b[33m\"\u001b[39m]\n\u001b[32m      3\u001b[39m     \u001b[38;5;28mprint\u001b[39m(\u001b[33mf\u001b[39m\u001b[33m\"\u001b[39m\u001b[33myour current balance is :\u001b[39m\u001b[38;5;130;01m\\n\u001b[39;00m\u001b[33m Rs \u001b[39m\u001b[38;5;132;01m{\u001b[39;00mbalance\u001b[38;5;132;01m}\u001b[39;00m\u001b[33m\"\u001b[39m)\n",
      "\u001b[31mKeyError\u001b[39m: 123456"
     ]
    }
   ],
   "source": [
    "main()"
   ]
  },
  {
   "cell_type": "code",
   "execution_count": null,
   "id": "fb4d383c",
   "metadata": {},
   "outputs": [],
   "source": [
    "class ATM:\n",
    "    def __init__(self, balance=0):\n",
    "        self.balance = balance\n",
    "\n",
    "    def check_balance(self):\n",
    "        print(f\"Your current balance is ₹{self.balance}\")\n",
    "\n",
    "    def deposit(self, amount):\n",
    "        if amount > 0:\n",
    "            self.balance += amount\n",
    "            print(f\"₹{amount} deposited successfully.\")\n",
    "        else:\n",
    "            print(\"Invalid deposit amount.\")\n",
    "\n",
    "    def withdraw(self, amount):\n",
    "        if 0 < amount <= self.balance:\n",
    "            self.balance -= amount\n",
    "            print(f\"₹{amount} withdrawn successfully.\")\n",
    "        else:\n",
    "            print(\"Insufficient balance or invalid amount.\")\n",
    "\n",
    "# Example interaction\n",
    "def main():\n",
    "    atm = ATM(balance=5000)\n",
    "    while True:\n",
    "        print(\"\\n--- ATM Menu ---\")\n",
    "        print(\"1. Check Balance\")\n",
    "        print(\"2. Deposit\")\n",
    "        print(\"3. Withdraw\")\n",
    "        print(\"4. Exit\")\n",
    "        choice = input(\"Enter your choice (1-4): \")\n",
    "\n",
    "        if choice == '1':\n",
    "            atm.check_balance()\n",
    "        elif choice == '2':\n",
    "            amount = float(input(\"Enter deposit amount: \"))\n",
    "            atm.deposit(amount)\n",
    "        elif choice == '3':\n",
    "            amount = float(input(\"Enter withdrawal amount: \"))\n",
    "            atm.withdraw(amount)\n",
    "        elif choice == '4':\n",
    "            print(\"Thank you for using the ATM. Goodbye!\")\n",
    "            break\n",
    "        else:\n",
    "            print(\"Invalid choice. Please try again.\")\n",
    "\n",
    "if __name__ == \"__main__\":\n",
    "    main()\n",
    "        "
   ]
  }
 ],
 "metadata": {
  "kernelspec": {
   "display_name": "Python 3",
   "language": "python",
   "name": "python3"
  },
  "language_info": {
   "codemirror_mode": {
    "name": "ipython",
    "version": 3
   },
   "file_extension": ".py",
   "mimetype": "text/x-python",
   "name": "python",
   "nbconvert_exporter": "python",
   "pygments_lexer": "ipython3",
   "version": "3.11.5"
  }
 },
 "nbformat": 4,
 "nbformat_minor": 5
}
