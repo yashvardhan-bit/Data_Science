{
 "cells": [
  {
   "cell_type": "code",
   "execution_count": null,
   "id": "fae4d5d7",
   "metadata": {},
   "outputs": [],
   "source": [
    "'''Yashvardhan Singh\n",
    "   7414872544'''"
   ]
  },
  {
   "cell_type": "code",
   "execution_count": null,
   "id": "3e71e4e7",
   "metadata": {},
   "outputs": [],
   "source": [
    "#1. file extension: .py\n",
    "# e.g. basic.py"
   ]
  },
  {
   "cell_type": "code",
   "execution_count": 20,
   "id": "0a41bb00",
   "metadata": {},
   "outputs": [],
   "source": [
    "#2 valid variable name= _var"
   ]
  },
  {
   "cell_type": "code",
   "execution_count": 21,
   "id": "902c452c",
   "metadata": {},
   "outputs": [],
   "source": [
    "#3 data type to store decimal numbers: float"
   ]
  },
  {
   "cell_type": "code",
   "execution_count": 22,
   "id": "0a455080",
   "metadata": {},
   "outputs": [],
   "source": [
    "# 4 operator used for exponentiation: **"
   ]
  },
  {
   "cell_type": "code",
   "execution_count": 23,
   "id": "e2b67c16",
   "metadata": {},
   "outputs": [],
   "source": [
    "# 5 immutable data type: tuple"
   ]
  },
  {
   "cell_type": "code",
   "execution_count": 24,
   "id": "6b4878a3",
   "metadata": {},
   "outputs": [],
   "source": [
    "# 6 output of print(type(10)): <class 'int'>"
   ]
  },
  {
   "cell_type": "code",
   "execution_count": 25,
   "id": "ba3d66f9",
   "metadata": {},
   "outputs": [],
   "source": [
    "#7 valid python list: [1, 2, 3]"
   ]
  },
  {
   "cell_type": "code",
   "execution_count": 26,
   "id": "a3029499",
   "metadata": {},
   "outputs": [],
   "source": [
    "#8 len() returns length"
   ]
  },
  {
   "cell_type": "code",
   "execution_count": 27,
   "id": "86f1ae05",
   "metadata": {},
   "outputs": [],
   "source": [
    "#9 correct syntax for an if statement:\n",
    "#if x==10:"
   ]
  },
  {
   "cell_type": "code",
   "execution_count": 28,
   "id": "3c81ca0e",
   "metadata": {},
   "outputs": [],
   "source": [
    "#10 output: Yes"
   ]
  },
  {
   "cell_type": "code",
   "execution_count": 29,
   "id": "c9d830bc",
   "metadata": {},
   "outputs": [],
   "source": [
    "#11 for i in range(0,5):\n",
    "#loop will run 5 times"
   ]
  },
  {
   "cell_type": "code",
   "execution_count": 30,
   "id": "b4d2b848",
   "metadata": {},
   "outputs": [],
   "source": [
    "#12 keyword to define a function: def"
   ]
  },
  {
   "cell_type": "code",
   "execution_count": 31,
   "id": "43f909dc",
   "metadata": {},
   "outputs": [],
   "source": [
    "#13 calling a function named greet:\n",
    "#greet()"
   ]
  },
  {
   "cell_type": "code",
   "execution_count": 32,
   "id": "0fa9338d",
   "metadata": {},
   "outputs": [],
   "source": [
    "#14 function returns a value: 5"
   ]
  },
  {
   "cell_type": "code",
   "execution_count": 33,
   "id": "bd4cf2b5",
   "metadata": {},
   "outputs": [
    {
     "name": "stdout",
     "output_type": "stream",
     "text": [
      "0\n",
      "1\n",
      "2\n",
      "3\n",
      "4\n"
     ]
    }
   ],
   "source": [
    "#15 break statement is used to exits the loop before it satisfies the condition\n",
    "# example:\n",
    "for i in range(10):\n",
    "     if i == 5:\n",
    "         break\n",
    "     print(i)"
   ]
  },
  {
   "cell_type": "code",
   "execution_count": 34,
   "id": "42fe56c9",
   "metadata": {},
   "outputs": [],
   "source": [
    "#16\n",
    "# for loop:\n",
    "# used when no. of iterations is known\n",
    "# loop will run for a specific number of times\n",
    "#  while loop:\n",
    "# used when no. of iterations is not known\n",
    "# loop will run until the condition is false\n",
    "\n",
    " "
   ]
  },
  {
   "cell_type": "code",
   "execution_count": null,
   "id": "142c0b73",
   "metadata": {},
   "outputs": [],
   "source": []
  },
  {
   "cell_type": "code",
   "execution_count": null,
   "id": "27545ce1",
   "metadata": {},
   "outputs": [],
   "source": [
    "#18\n",
    "#functioon overloading:\n",
    "# defining multiple functions with the same name but different parameters"
   ]
  },
  {
   "cell_type": "code",
   "execution_count": null,
   "id": "8f7b0aaf",
   "metadata": {},
   "outputs": [],
   "source": [
    "#19\n",
    "#function overriding in python:\n",
    "# defining a function in a child class with the same name as in the parent class\n"
   ]
  },
  {
   "cell_type": "code",
   "execution_count": 18,
   "id": "f595fa4b",
   "metadata": {},
   "outputs": [
    {
     "data": {
      "text/plain": [
       "12"
      ]
     },
     "execution_count": 18,
     "metadata": {},
     "output_type": "execute_result"
    }
   ],
   "source": [
    "#20\n",
    "def product(a, b):\n",
    "    return a * b\n",
    "product(3, 4)"
   ]
  },
  {
   "cell_type": "code",
   "execution_count": null,
   "id": "c156ef21",
   "metadata": {},
   "outputs": [],
   "source": [
    "#17 parameters:\n",
    "# variables that are passed to a function when it is called"
   ]
  }
 ],
 "metadata": {
  "kernelspec": {
   "display_name": "Python 3",
   "language": "python",
   "name": "python3"
  },
  "language_info": {
   "codemirror_mode": {
    "name": "ipython",
    "version": 3
   },
   "file_extension": ".py",
   "mimetype": "text/x-python",
   "name": "python",
   "nbconvert_exporter": "python",
   "pygments_lexer": "ipython3",
   "version": "3.11.5"
  }
 },
 "nbformat": 4,
 "nbformat_minor": 5
}
