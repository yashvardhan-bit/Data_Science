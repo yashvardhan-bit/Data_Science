{
 "cells": [
  {
   "cell_type": "code",
   "execution_count": null,
   "id": "c8140a94",
   "metadata": {},
   "outputs": [
    {
     "name": "stdout",
     "output_type": "stream",
     "text": [
      "hello, welcome to upflairs\n"
     ]
    }
   ],
   "source": [
    "#casefold\n",
    "text=\"Hello, Welcome to Upflairs\"\n",
    "text=text.casefold()\n",
    "print(text)\n",
    "#casefold is used to convert all characters in a string to lowercase, making it suitable for case-insensitive comparisons.\n"
   ]
  },
  {
   "cell_type": "code",
   "execution_count": 3,
   "id": "83d97c7e",
   "metadata": {},
   "outputs": [
    {
     "data": {
      "text/plain": [
       "'hello, welcome to upflairs'"
      ]
     },
     "execution_count": 3,
     "metadata": {},
     "output_type": "execute_result"
    }
   ],
   "source": [
    "text.lower()#casefold is more aggressive than lower() and is used for case-insensitive string comparisons."
   ]
  },
  {
   "cell_type": "code",
   "execution_count": 6,
   "id": "11bc13e7",
   "metadata": {},
   "outputs": [],
   "source": [
    "import re\n",
    "# Regular expression to match words\n"
   ]
  },
  {
   "cell_type": "code",
   "execution_count": 9,
   "id": "75f78067",
   "metadata": {},
   "outputs": [
    {
     "data": {
      "text/plain": [
       "'hello  my name is   Yashvardhan'"
      ]
     },
     "execution_count": 9,
     "metadata": {},
     "output_type": "execute_result"
    }
   ],
   "source": [
    "# Regular expression to match words\n",
    "input=\"hello@ my name is )*Yashvardhan\"\n",
    "cleaned_text=re.sub(r\"[^a-zA-Z0-9]\", \" \", input)\n",
    "cleaned_text"
   ]
  },
  {
   "cell_type": "code",
   "execution_count": 10,
   "id": "ffb16d53",
   "metadata": {},
   "outputs": [
    {
     "data": {
      "text/plain": [
       "'hello  my name is   Yashvardhan123456'"
      ]
     },
     "execution_count": 10,
     "metadata": {},
     "output_type": "execute_result"
    }
   ],
   "source": [
    "input=\"hello@ my name is )*Yashvardhan123456\"\n",
    "cleaned_text=re.sub(r\"[^a-zA-Z0-9]\", \" \", input)\n",
    "cleaned_text"
   ]
  },
  {
   "cell_type": "code",
   "execution_count": 11,
   "id": "7f435a91",
   "metadata": {},
   "outputs": [
    {
     "data": {
      "text/plain": [
       "'hello  my name is   Yashvardhan     '"
      ]
     },
     "execution_count": 11,
     "metadata": {},
     "output_type": "execute_result"
    }
   ],
   "source": [
    "input=\"hello@ my name is )*Yashvardhan12345\"\n",
    "cleaned_text=re.sub(r\"[^a-zA-Z]\", \" \", input)\n",
    "cleaned_text"
   ]
  },
  {
   "cell_type": "markdown",
   "id": "2711ff18",
   "metadata": {},
   "source": [
    "Handling contradictions\n",
    "\n",
    "eg: I'm=I am \n",
    "I'm going"
   ]
  },
  {
   "cell_type": "code",
   "execution_count": 14,
   "id": "fb868fba",
   "metadata": {},
   "outputs": [
    {
     "name": "stdout",
     "output_type": "stream",
     "text": [
      "Collecting contractions\n",
      "  Using cached contractions-0.1.73-py2.py3-none-any.whl.metadata (1.2 kB)\n",
      "Collecting textsearch>=0.0.21 (from contractions)\n",
      "  Using cached textsearch-0.0.24-py2.py3-none-any.whl.metadata (1.2 kB)\n",
      "Collecting anyascii (from textsearch>=0.0.21->contractions)\n",
      "  Using cached anyascii-0.3.3-py3-none-any.whl.metadata (1.6 kB)\n",
      "Collecting pyahocorasick (from textsearch>=0.0.21->contractions)\n",
      "  Using cached pyahocorasick-2.2.0-cp311-cp311-win_amd64.whl.metadata (14 kB)\n",
      "Using cached contractions-0.1.73-py2.py3-none-any.whl (8.7 kB)\n",
      "Using cached textsearch-0.0.24-py2.py3-none-any.whl (7.6 kB)\n",
      "Downloading anyascii-0.3.3-py3-none-any.whl (345 kB)\n",
      "Downloading pyahocorasick-2.2.0-cp311-cp311-win_amd64.whl (34 kB)\n",
      "Installing collected packages: pyahocorasick, anyascii, textsearch, contractions\n",
      "\n",
      "   ---------- ----------------------------- 1/4 [anyascii]\n",
      "   ---------- ----------------------------- 1/4 [anyascii]\n",
      "   ---------------------------------------- 4/4 [contractions]\n",
      "\n",
      "Successfully installed anyascii-0.3.3 contractions-0.1.73 pyahocorasick-2.2.0 textsearch-0.0.24\n",
      "Note: you may need to restart the kernel to use updated packages.\n"
     ]
    }
   ],
   "source": [
    "%pip install contractions\n",
    "\n",
    "\n"
   ]
  },
  {
   "cell_type": "code",
   "execution_count": 15,
   "id": "059ad11c",
   "metadata": {},
   "outputs": [
    {
     "name": "stdout",
     "output_type": "stream",
     "text": [
      "I am going\n"
     ]
    }
   ],
   "source": [
    "import contractions\n",
    "# Handling contractions\n",
    "text = \"I'm going\"\n",
    "expanded_text = contractions.fix(text)\n",
    "print(expanded_text)"
   ]
  },
  {
   "cell_type": "code",
   "execution_count": 18,
   "id": "567e580c",
   "metadata": {},
   "outputs": [
    {
     "name": "stdout",
     "output_type": "stream",
     "text": [
      "Collecting nltk\n",
      "  Downloading nltk-3.9.1-py3-none-any.whl.metadata (2.9 kB)\n",
      "Requirement already satisfied: click in c:\\users\\yasha\\appdata\\local\\programs\\python\\python311\\lib\\site-packages (from nltk) (8.2.1)\n",
      "Requirement already satisfied: joblib in c:\\users\\yasha\\appdata\\local\\programs\\python\\python311\\lib\\site-packages (from nltk) (1.5.1)\n",
      "Collecting regex>=2021.8.3 (from nltk)\n",
      "  Downloading regex-2024.11.6-cp311-cp311-win_amd64.whl.metadata (41 kB)\n",
      "Collecting tqdm (from nltk)\n",
      "  Downloading tqdm-4.67.1-py3-none-any.whl.metadata (57 kB)\n",
      "Requirement already satisfied: colorama in c:\\users\\yasha\\appdata\\roaming\\python\\python311\\site-packages (from click->nltk) (0.4.6)\n",
      "Downloading nltk-3.9.1-py3-none-any.whl (1.5 MB)\n",
      "   ---------------------------------------- 0.0/1.5 MB ? eta -:--:--\n",
      "   ---------------------------------------- 0.0/1.5 MB ? eta -:--:--\n",
      "   ---------------------------------------- 0.0/1.5 MB ? eta -:--:--\n",
      "   ---------------------------------------- 0.0/1.5 MB ? eta -:--:--\n",
      "   ---------------------------------------- 0.0/1.5 MB ? eta -:--:--\n",
      "   ---------------------------------------- 0.0/1.5 MB ? eta -:--:--\n",
      "   ---------------------------------------- 0.0/1.5 MB ? eta -:--:--\n",
      "   ---------------------------------------- 0.0/1.5 MB ? eta -:--:--\n",
      "   ---------------------------------------- 0.0/1.5 MB ? eta -:--:--\n",
      "   ---------------------------------------- 0.0/1.5 MB ? eta -:--:--\n",
      "   ---------------------------------------- 0.0/1.5 MB ? eta -:--:--\n",
      "   ---------------------------------------- 0.0/1.5 MB ? eta -:--:--\n",
      "   ------ --------------------------------- 0.3/1.5 MB ? eta -:--:--\n",
      "   ------ --------------------------------- 0.3/1.5 MB ? eta -:--:--\n",
      "   ------ --------------------------------- 0.3/1.5 MB ? eta -:--:--\n",
      "   ------ --------------------------------- 0.3/1.5 MB ? eta -:--:--\n",
      "   ------ --------------------------------- 0.3/1.5 MB ? eta -:--:--\n",
      "   ------ --------------------------------- 0.3/1.5 MB ? eta -:--:--\n",
      "   ------------- -------------------------- 0.5/1.5 MB 220.8 kB/s eta 0:00:05\n",
      "   ------------- -------------------------- 0.5/1.5 MB 220.8 kB/s eta 0:00:05\n",
      "   ------------- -------------------------- 0.5/1.5 MB 220.8 kB/s eta 0:00:05\n",
      "   -------------------- ------------------- 0.8/1.5 MB 294.4 kB/s eta 0:00:03\n",
      "   -------------------- ------------------- 0.8/1.5 MB 294.4 kB/s eta 0:00:03\n",
      "   --------------------------- ------------ 1.0/1.5 MB 342.5 kB/s eta 0:00:02\n",
      "   --------------------------- ------------ 1.0/1.5 MB 342.5 kB/s eta 0:00:02\n",
      "   --------------------------- ------------ 1.0/1.5 MB 342.5 kB/s eta 0:00:02\n",
      "   ---------------------------------- ----- 1.3/1.5 MB 359.0 kB/s eta 0:00:01\n",
      "   ---------------------------------- ----- 1.3/1.5 MB 359.0 kB/s eta 0:00:01\n",
      "   ---------------------------------- ----- 1.3/1.5 MB 359.0 kB/s eta 0:00:01\n",
      "   ---------------------------------------- 1.5/1.5 MB 358.5 kB/s eta 0:00:00\n",
      "Downloading regex-2024.11.6-cp311-cp311-win_amd64.whl (274 kB)\n",
      "Downloading tqdm-4.67.1-py3-none-any.whl (78 kB)\n",
      "Installing collected packages: tqdm, regex, nltk\n",
      "\n",
      "   ---------------------------------------- 0/3 [tqdm]\n",
      "   ---------------------------------------- 0/3 [tqdm]\n",
      "   ------------- -------------------------- 1/3 [regex]\n",
      "   ------------- -------------------------- 1/3 [regex]\n",
      "   -------------------------- ------------- 2/3 [nltk]\n",
      "   -------------------------- ------------- 2/3 [nltk]\n",
      "   -------------------------- ------------- 2/3 [nltk]\n",
      "   -------------------------- ------------- 2/3 [nltk]\n",
      "   -------------------------- ------------- 2/3 [nltk]\n",
      "   -------------------------- ------------- 2/3 [nltk]\n",
      "   -------------------------- ------------- 2/3 [nltk]\n",
      "   -------------------------- ------------- 2/3 [nltk]\n",
      "   -------------------------- ------------- 2/3 [nltk]\n",
      "   -------------------------- ------------- 2/3 [nltk]\n",
      "   -------------------------- ------------- 2/3 [nltk]\n",
      "   -------------------------- ------------- 2/3 [nltk]\n",
      "   -------------------------- ------------- 2/3 [nltk]\n",
      "   -------------------------- ------------- 2/3 [nltk]\n",
      "   -------------------------- ------------- 2/3 [nltk]\n",
      "   -------------------------- ------------- 2/3 [nltk]\n",
      "   -------------------------- ------------- 2/3 [nltk]\n",
      "   -------------------------- ------------- 2/3 [nltk]\n",
      "   -------------------------- ------------- 2/3 [nltk]\n",
      "   -------------------------- ------------- 2/3 [nltk]\n",
      "   -------------------------- ------------- 2/3 [nltk]\n",
      "   -------------------------- ------------- 2/3 [nltk]\n",
      "   -------------------------- ------------- 2/3 [nltk]\n",
      "   -------------------------- ------------- 2/3 [nltk]\n",
      "   -------------------------- ------------- 2/3 [nltk]\n",
      "   -------------------------- ------------- 2/3 [nltk]\n",
      "   -------------------------- ------------- 2/3 [nltk]\n",
      "   -------------------------- ------------- 2/3 [nltk]\n",
      "   -------------------------- ------------- 2/3 [nltk]\n",
      "   -------------------------- ------------- 2/3 [nltk]\n",
      "   -------------------------- ------------- 2/3 [nltk]\n",
      "   -------------------------- ------------- 2/3 [nltk]\n",
      "   -------------------------- ------------- 2/3 [nltk]\n",
      "   -------------------------- ------------- 2/3 [nltk]\n",
      "   -------------------------- ------------- 2/3 [nltk]\n",
      "   -------------------------- ------------- 2/3 [nltk]\n",
      "   -------------------------- ------------- 2/3 [nltk]\n",
      "   -------------------------- ------------- 2/3 [nltk]\n",
      "   -------------------------- ------------- 2/3 [nltk]\n",
      "   -------------------------- ------------- 2/3 [nltk]\n",
      "   -------------------------- ------------- 2/3 [nltk]\n",
      "   -------------------------- ------------- 2/3 [nltk]\n",
      "   -------------------------- ------------- 2/3 [nltk]\n",
      "   -------------------------- ------------- 2/3 [nltk]\n",
      "   -------------------------- ------------- 2/3 [nltk]\n",
      "   -------------------------- ------------- 2/3 [nltk]\n",
      "   -------------------------- ------------- 2/3 [nltk]\n",
      "   -------------------------- ------------- 2/3 [nltk]\n",
      "   -------------------------- ------------- 2/3 [nltk]\n",
      "   -------------------------- ------------- 2/3 [nltk]\n",
      "   -------------------------- ------------- 2/3 [nltk]\n",
      "   -------------------------- ------------- 2/3 [nltk]\n",
      "   -------------------------- ------------- 2/3 [nltk]\n",
      "   -------------------------- ------------- 2/3 [nltk]\n",
      "   -------------------------- ------------- 2/3 [nltk]\n",
      "   -------------------------- ------------- 2/3 [nltk]\n",
      "   -------------------------- ------------- 2/3 [nltk]\n",
      "   -------------------------- ------------- 2/3 [nltk]\n",
      "   -------------------------- ------------- 2/3 [nltk]\n",
      "   -------------------------- ------------- 2/3 [nltk]\n",
      "   -------------------------- ------------- 2/3 [nltk]\n",
      "   -------------------------- ------------- 2/3 [nltk]\n",
      "   -------------------------- ------------- 2/3 [nltk]\n",
      "   -------------------------- ------------- 2/3 [nltk]\n",
      "   -------------------------- ------------- 2/3 [nltk]\n",
      "   -------------------------- ------------- 2/3 [nltk]\n",
      "   -------------------------- ------------- 2/3 [nltk]\n",
      "   ---------------------------------------- 3/3 [nltk]\n",
      "\n",
      "Successfully installed nltk-3.9.1 regex-2024.11.6 tqdm-4.67.1\n",
      "Note: you may need to restart the kernel to use updated packages.\n"
     ]
    }
   ],
   "source": [
    "pip install nltk"
   ]
  },
  {
   "cell_type": "code",
   "execution_count": 19,
   "id": "0069b2e3",
   "metadata": {},
   "outputs": [],
   "source": [
    "import nltk"
   ]
  },
  {
   "cell_type": "code",
   "execution_count": 20,
   "id": "cbd7cde2",
   "metadata": {},
   "outputs": [
    {
     "name": "stderr",
     "output_type": "stream",
     "text": [
      "[nltk_data] Downloading package punkt to\n",
      "[nltk_data]     C:\\Users\\yasha\\AppData\\Roaming\\nltk_data...\n",
      "[nltk_data]   Unzipping tokenizers\\punkt.zip.\n"
     ]
    },
    {
     "data": {
      "text/plain": [
       "True"
      ]
     },
     "execution_count": 20,
     "metadata": {},
     "output_type": "execute_result"
    }
   ],
   "source": [
    "nltk.download('punkt')"
   ]
  },
  {
   "cell_type": "code",
   "execution_count": 22,
   "id": "8df5331b",
   "metadata": {},
   "outputs": [
    {
     "name": "stderr",
     "output_type": "stream",
     "text": [
      "[nltk_data] Downloading package punkt_tab to\n",
      "[nltk_data]     C:\\Users\\yasha\\AppData\\Roaming\\nltk_data...\n",
      "[nltk_data]   Unzipping tokenizers\\punkt_tab.zip.\n"
     ]
    },
    {
     "data": {
      "text/plain": [
       "True"
      ]
     },
     "execution_count": 22,
     "metadata": {},
     "output_type": "execute_result"
    }
   ],
   "source": [
    "nltk.download('punkt_tab')"
   ]
  },
  {
   "cell_type": "code",
   "execution_count": 25,
   "id": "4724dd72",
   "metadata": {},
   "outputs": [
    {
     "name": "stdout",
     "output_type": "stream",
     "text": [
      "['hello', '@', 'my', 'name', 'is', ')', '*', 'Yassu', 'Yassu']\n"
     ]
    }
   ],
   "source": [
    "input=\"hello@ my name is )*Yassu Yassu\"\n",
    "tokens=nltk.word_tokenize(input)\n",
    "print(tokens)"
   ]
  },
  {
   "cell_type": "code",
   "execution_count": 27,
   "id": "3eb2087e",
   "metadata": {},
   "outputs": [
    {
     "name": "stdout",
     "output_type": "stream",
     "text": [
      "hello my name is Yassu Yassu\n"
     ]
    }
   ],
   "source": [
    "# Remove non-alphabetic tokens and join them into a clean string\n",
    "clean_text = [token for token in tokens if token.isalpha()]\n",
    "cleaned_text = ' '.join(clean_text)\n",
    "print(cleaned_text)"
   ]
  },
  {
   "cell_type": "code",
   "execution_count": null,
   "id": "4e01e22b",
   "metadata": {},
   "outputs": [
    {
     "data": {
      "text/plain": [
       "'Ram is https://pypi.org/project/nltk/ram'"
      ]
     },
     "execution_count": 30,
     "metadata": {},
     "output_type": "execute_result"
    }
   ],
   "source": [
    "sentence = \"Ram is https://pypi.org/project/nltk/ram\"\n",
    "import re\n",
    "# Regular expression to match words\n",
    "re.sub(r\"<.*?>\", '', sentence)# Remove HTML tags from the sentence"
   ]
  },
  {
   "cell_type": "code",
   "execution_count": 29,
   "id": "7f5c0d41",
   "metadata": {},
   "outputs": [
    {
     "data": {
      "text/plain": [
       "'Ram is  Shyam'"
      ]
     },
     "execution_count": 29,
     "metadata": {},
     "output_type": "execute_result"
    }
   ],
   "source": [
    "sentence = \"Ram is https://pypi.org/project/nltk/ram Shyam\"\n",
    "import re\n",
    "# Regular expression to match words\n",
    "re.sub(r'https?://\\S+|www\\.\\S+', '', sentence) # Remove URLs from the sentence"
   ]
  },
  {
   "cell_type": "code",
   "execution_count": 1,
   "id": "d3ead90a",
   "metadata": {},
   "outputs": [],
   "source": [
    "chat_word_dict = {\n",
    "    \"u\": \"you\",\n",
    "    \"r\": \"are\",\n",
    "    \"b4\": \"before\",\n",
    "    \"gr8\": \"great\",\n",
    "    \"l8r\": \"later\",\n",
    "    \"idk\": \"I don’t know\",\n",
    "    \"btw\": \"by the way\",\n",
    "    \"imo\": \"in my opinion\",\n",
    "    \"ttyl\": \"talk to you later\",\n",
    "    \"brb\": \"be right back\",\n",
    "    \"wanna\": \"want to\",\n",
    "    \"gonna\": \"going to\",\n",
    "    \"lemme\": \"let me\",\n",
    "    \"dunno\": \"don’t know\",\n",
    "    \"thx\": \"thanks\",\n",
    "    \"pls\": \"please\",\n",
    "    \"ppl\": \"people\",\n",
    "    \"smh\": \"shaking my head\",\n",
    "    \"tbh\": \"to be honest\",\n",
    "    \"omg\": \"oh my god\",\n",
    "    \"lol\": \"laugh out loud\",\n",
    "    \"rofl\": \"rolling on the floor laughing\",\n",
    "    \"afk\": \"away from keyboard\",\n",
    "    \"np\": \"no problem\",\n",
    "    \"gtg\": \"got to go\",\n",
    "    \"jk\": \"just kidding\",\n",
    "    \"hbu\": \"how about you\",\n",
    "    \"ily\": \"I love you\",\n",
    "    \"ttys\": \"talk to you soon\"\n",
    "}\n"
   ]
  },
  {
   "cell_type": "code",
   "execution_count": 2,
   "id": "241f2368",
   "metadata": {},
   "outputs": [],
   "source": [
    "chat_text = \"omg idk what u r talking about lol\"\n",
    "def normalize_text(char_text):\n",
    "    words = char_text.split()\n",
    "    normalized_words = [chat_word_dict.get(word.lower(), word) for word in words]\n",
    "    return ' '.join(normalized_words)"
   ]
  },
  {
   "cell_type": "code",
   "execution_count": null,
   "id": "ea252c29",
   "metadata": {},
   "outputs": [
    {
     "ename": "TypeError",
     "evalue": "normalize_text() got an unexpected keyword argument 'chat_text'",
     "output_type": "error",
     "traceback": [
      "\u001b[31m---------------------------------------------------------------------------\u001b[39m",
      "\u001b[31mTypeError\u001b[39m                                 Traceback (most recent call last)",
      "\u001b[36mCell\u001b[39m\u001b[36m \u001b[39m\u001b[32mIn[6]\u001b[39m\u001b[32m, line 1\u001b[39m\n\u001b[32m----> \u001b[39m\u001b[32m1\u001b[39m normalize_text= \u001b[43mnormalize_text\u001b[49m\u001b[43m(\u001b[49m\u001b[43mchat_text\u001b[49m\u001b[43m=\u001b[49m\u001b[33;43m\"\u001b[39;49m\u001b[33;43momg idk what u r talking about\u001b[39;49m\u001b[33;43m\"\u001b[39;49m\u001b[43m)\u001b[49m\n",
      "\u001b[31mTypeError\u001b[39m: normalize_text() got an unexpected keyword argument 'chat_text'"
     ]
    }
   ],
   "source": [
    "normalize_text = normalize_text(\"omg idk what u r talking about\")"
   ]
  },
  {
   "cell_type": "code",
   "execution_count": 4,
   "id": "5d0cf867",
   "metadata": {},
   "outputs": [
    {
     "data": {
      "text/plain": [
       "'oh my god I don’t know what you are talking about laugh out loud'"
      ]
     },
     "execution_count": 4,
     "metadata": {},
     "output_type": "execute_result"
    }
   ],
   "source": [
    "normalize_text(chat_text)"
   ]
  },
  {
   "cell_type": "code",
   "execution_count": null,
   "id": "989f407a",
   "metadata": {},
   "outputs": [
    {
     "name": "stdout",
     "output_type": "stream",
     "text": [
      "Collecting textblob\n",
      "  Using cached textblob-0.19.0-py3-none-any.whl.metadata (4.4 kB)\n",
      "Requirement already satisfied: nltk>=3.9 in c:\\users\\yasha\\appdata\\local\\programs\\python\\python311\\lib\\site-packages (from textblob) (3.9.1)\n",
      "Requirement already satisfied: click in c:\\users\\yasha\\appdata\\local\\programs\\python\\python311\\lib\\site-packages (from nltk>=3.9->textblob) (8.2.1)\n",
      "Requirement already satisfied: joblib in c:\\users\\yasha\\appdata\\local\\programs\\python\\python311\\lib\\site-packages (from nltk>=3.9->textblob) (1.5.1)\n",
      "Requirement already satisfied: regex>=2021.8.3 in c:\\users\\yasha\\appdata\\local\\programs\\python\\python311\\lib\\site-packages (from nltk>=3.9->textblob) (2024.11.6)\n",
      "Requirement already satisfied: tqdm in c:\\users\\yasha\\appdata\\local\\programs\\python\\python311\\lib\\site-packages (from nltk>=3.9->textblob) (4.67.1)\n",
      "Requirement already satisfied: colorama in c:\\users\\yasha\\appdata\\roaming\\python\\python311\\site-packages (from click->nltk>=3.9->textblob) (0.4.6)\n",
      "Using cached textblob-0.19.0-py3-none-any.whl (624 kB)\n",
      "Installing collected packages: textblob\n",
      "Successfully installed textblob-0.19.0\n",
      "Note: you may need to restart the kernel to use updated packages.\n"
     ]
    }
   ],
   "source": [
    "# %pip install textblob"
   ]
  },
  {
   "cell_type": "code",
   "execution_count": 2,
   "id": "692d9d3a",
   "metadata": {},
   "outputs": [
    {
     "name": "stdout",
     "output_type": "stream",
     "text": [
      "my same is\n"
     ]
    }
   ],
   "source": [
    "from textblob import TextBlob\n",
    "text=\"my mame is\"\n",
    "spelling_correct=TextBlob(text).correct()\n",
    "\n",
    "print(spelling_correct)"
   ]
  },
  {
   "cell_type": "code",
   "execution_count": null,
   "id": "7b1e84c7",
   "metadata": {},
   "outputs": [
    {
     "name": "stdout",
     "output_type": "stream",
     "text": [
      "Collecting SpeechRecognition\n",
      "  Downloading speechrecognition-3.14.3-py3-none-any.whl.metadata (30 kB)\n",
      "Requirement already satisfied: typing-extensions in c:\\users\\yasha\\appdata\\roaming\\python\\python311\\site-packages (from SpeechRecognition) (4.14.0)\n",
      "Downloading speechrecognition-3.14.3-py3-none-any.whl (32.9 MB)\n",
      "   ---------------------------------------- 0.0/32.9 MB ? eta -:--:--\n",
      "   ---------------------------------------- 0.0/32.9 MB ? eta -:--:--\n",
      "   ---------------------------------------- 0.0/32.9 MB ? eta -:--:--\n",
      "   ---------------------------------------- 0.0/32.9 MB ? eta -:--:--\n",
      "   ---------------------------------------- 0.0/32.9 MB ? eta -:--:--\n",
      "   ---------------------------------------- 0.0/32.9 MB ? eta -:--:--\n",
      "   ---------------------------------------- 0.0/32.9 MB ? eta -:--:--\n",
      "   ---------------------------------------- 0.0/32.9 MB ? eta -:--:--\n",
      "   ---------------------------------------- 0.0/32.9 MB ? eta -:--:--\n",
      "   ---------------------------------------- 0.0/32.9 MB ? eta -:--:--\n",
      "   ---------------------------------------- 0.0/32.9 MB ? eta -:--:--\n",
      "   ---------------------------------------- 0.0/32.9 MB ? eta -:--:--\n",
      "   ---------------------------------------- 0.0/32.9 MB ? eta -:--:--\n",
      "   ---------------------------------------- 0.0/32.9 MB ? eta -:--:--\n",
      "   ---------------------------------------- 0.0/32.9 MB ? eta -:--:--\n",
      "   ---------------------------------------- 0.0/32.9 MB ? eta -:--:--\n",
      "   ---------------------------------------- 0.0/32.9 MB ? eta -:--:--\n",
      "   ---------------------------------------- 0.0/32.9 MB ? eta -:--:--\n",
      "   ---------------------------------------- 0.0/32.9 MB ? eta -:--:--\n",
      "   ---------------------------------------- 0.0/32.9 MB ? eta -:--:--\n",
      "   ---------------------------------------- 0.0/32.9 MB ? eta -:--:--\n",
      "   ---------------------------------------- 0.0/32.9 MB ? eta -:--:--\n",
      "   ---------------------------------------- 0.0/32.9 MB ? eta -:--:--\n",
      "   ---------------------------------------- 0.0/32.9 MB ? eta -:--:--\n",
      "   ---------------------------------------- 0.0/32.9 MB ? eta -:--:--\n",
      "   ---------------------------------------- 0.0/32.9 MB ? eta -:--:--\n",
      "   ---------------------------------------- 0.0/32.9 MB ? eta -:--:--\n",
      "   ---------------------------------------- 0.0/32.9 MB ? eta -:--:--\n",
      "   ---------------------------------------- 0.0/32.9 MB ? eta -:--:--\n",
      "   ---------------------------------------- 0.0/32.9 MB ? eta -:--:--\n",
      "   ---------------------------------------- 0.0/32.9 MB ? eta -:--:--\n",
      "   ---------------------------------------- 0.0/32.9 MB ? eta -:--:--\n",
      "   ---------------------------------------- 0.0/32.9 MB ? eta -:--:--\n",
      "   ---------------------------------------- 0.0/32.9 MB ? eta -:--:--\n",
      "   ---------------------------------------- 0.3/32.9 MB ? eta -:--:--\n",
      "   ---------------------------------------- 0.3/32.9 MB ? eta -:--:--\n",
      "   ---------------------------------------- 0.3/32.9 MB ? eta -:--:--\n",
      "   ---------------------------------------- 0.3/32.9 MB ? eta -:--:--\n",
      "   ---------------------------------------- 0.3/32.9 MB ? eta -:--:--\n",
      "   ---------------------------------------- 0.3/32.9 MB ? eta -:--:--\n",
      "   ---------------------------------------- 0.3/32.9 MB ? eta -:--:--\n",
      "   ---------------------------------------- 0.3/32.9 MB ? eta -:--:--\n",
      "   ---------------------------------------- 0.3/32.9 MB ? eta -:--:--\n",
      "   ---------------------------------------- 0.3/32.9 MB ? eta -:--:--\n",
      "   ---------------------------------------- 0.3/32.9 MB ? eta -:--:--\n",
      "   ---------------------------------------- 0.3/32.9 MB ? eta -:--:--\n",
      "   ---------------------------------------- 0.3/32.9 MB ? eta -:--:--\n",
      "   ---------------------------------------- 0.3/32.9 MB ? eta -:--:--\n",
      "   ---------------------------------------- 0.3/32.9 MB ? eta -:--:--\n",
      "   ---------------------------------------- 0.3/32.9 MB ? eta -:--:--\n",
      "   ---------------------------------------- 0.3/32.9 MB ? eta -:--:--\n",
      "   ---------------------------------------- 0.3/32.9 MB ? eta -:--:--\n",
      "   ---------------------------------------- 0.3/32.9 MB ? eta -:--:--\n",
      "   ---------------------------------------- 0.3/32.9 MB ? eta -:--:--\n",
      "   ---------------------------------------- 0.3/32.9 MB ? eta -:--:--\n",
      "    --------------------------------------- 0.5/32.9 MB 58.7 kB/s eta 0:09:12\n",
      "    --------------------------------------- 0.5/32.9 MB 58.7 kB/s eta 0:09:12\n",
      "    --------------------------------------- 0.5/32.9 MB 58.7 kB/s eta 0:09:12\n",
      "    --------------------------------------- 0.8/32.9 MB 102.3 kB/s eta 0:05:14\n",
      "    --------------------------------------- 0.8/32.9 MB 102.3 kB/s eta 0:05:14\n",
      "    --------------------------------------- 0.8/32.9 MB 102.3 kB/s eta 0:05:14\n",
      "    --------------------------------------- 0.8/32.9 MB 102.3 kB/s eta 0:05:14\n",
      "    --------------------------------------- 0.8/32.9 MB 102.3 kB/s eta 0:05:14\n",
      "   - -------------------------------------- 1.0/32.9 MB 128.4 kB/s eta 0:04:08\n",
      "   - -------------------------------------- 1.0/32.9 MB 128.4 kB/s eta 0:04:08\n",
      "   - -------------------------------------- 1.6/32.9 MB 196.0 kB/s eta 0:02:40\n",
      "   -- ------------------------------------- 1.8/32.9 MB 230.4 kB/s eta 0:02:15\n",
      "   -- ------------------------------------- 1.8/32.9 MB 230.4 kB/s eta 0:02:15\n",
      "   -- ------------------------------------- 1.8/32.9 MB 230.4 kB/s eta 0:02:15\n",
      "   -- ------------------------------------- 2.1/32.9 MB 243.1 kB/s eta 0:02:07\n",
      "   -- ------------------------------------- 2.1/32.9 MB 243.1 kB/s eta 0:02:07\n",
      "   -- ------------------------------------- 2.4/32.9 MB 263.7 kB/s eta 0:01:56\n",
      "   -- ------------------------------------- 2.4/32.9 MB 263.7 kB/s eta 0:01:56\n",
      "   --- ------------------------------------ 2.6/32.9 MB 286.0 kB/s eta 0:01:46\n",
      "   --- ------------------------------------ 2.6/32.9 MB 286.0 kB/s eta 0:01:46\n",
      "   --- ------------------------------------ 2.6/32.9 MB 286.0 kB/s eta 0:01:46\n",
      "   --- ------------------------------------ 2.6/32.9 MB 286.0 kB/s eta 0:01:46\n",
      "   --- ------------------------------------ 2.9/32.9 MB 282.5 kB/s eta 0:01:47\n",
      "   --- ------------------------------------ 2.9/32.9 MB 282.5 kB/s eta 0:01:47\n",
      "   --- ------------------------------------ 2.9/32.9 MB 282.5 kB/s eta 0:01:47\n",
      "   --- ------------------------------------ 3.1/32.9 MB 295.3 kB/s eta 0:01:41\n",
      "   ---- ----------------------------------- 3.4/32.9 MB 311.2 kB/s eta 0:01:35\n",
      "   ---- ----------------------------------- 3.4/32.9 MB 311.2 kB/s eta 0:01:35\n",
      "   ---- ----------------------------------- 3.4/32.9 MB 311.2 kB/s eta 0:01:35\n",
      "   ---- ----------------------------------- 3.7/32.9 MB 319.3 kB/s eta 0:01:32\n",
      "   ---- ----------------------------------- 3.7/32.9 MB 319.3 kB/s eta 0:01:32\n",
      "   ---- ----------------------------------- 3.9/32.9 MB 326.7 kB/s eta 0:01:29\n",
      "   ---- ----------------------------------- 3.9/32.9 MB 326.7 kB/s eta 0:01:29\n",
      "   ---- ----------------------------------- 3.9/32.9 MB 326.7 kB/s eta 0:01:29\n",
      "   ---- ----------------------------------- 3.9/32.9 MB 326.7 kB/s eta 0:01:29\n",
      "   ---- ----------------------------------- 3.9/32.9 MB 326.7 kB/s eta 0:01:29\n",
      "   ---- ----------------------------------- 3.9/32.9 MB 326.7 kB/s eta 0:01:29\n",
      "   ---- ----------------------------------- 3.9/32.9 MB 326.7 kB/s eta 0:01:29\n",
      "   ---- ----------------------------------- 3.9/32.9 MB 326.7 kB/s eta 0:01:29\n",
      "   ----- ---------------------------------- 4.2/32.9 MB 305.1 kB/s eta 0:01:34\n",
      "   ----- ---------------------------------- 4.2/32.9 MB 305.1 kB/s eta 0:01:34\n",
      "   ----- ---------------------------------- 4.2/32.9 MB 305.1 kB/s eta 0:01:34\n",
      "   ----- ---------------------------------- 4.2/32.9 MB 305.1 kB/s eta 0:01:34\n",
      "   ----- ---------------------------------- 4.2/32.9 MB 305.1 kB/s eta 0:01:34\n",
      "   ----- ---------------------------------- 4.2/32.9 MB 305.1 kB/s eta 0:01:34\n",
      "   ----- ---------------------------------- 4.2/32.9 MB 305.1 kB/s eta 0:01:34\n",
      "   ----- ---------------------------------- 4.2/32.9 MB 305.1 kB/s eta 0:01:34\n",
      "   ----- ---------------------------------- 4.2/32.9 MB 305.1 kB/s eta 0:01:34\n",
      "   ----- ---------------------------------- 4.2/32.9 MB 305.1 kB/s eta 0:01:34\n",
      "   ----- ---------------------------------- 4.2/32.9 MB 305.1 kB/s eta 0:01:34\n",
      "   ----- ---------------------------------- 4.2/32.9 MB 305.1 kB/s eta 0:01:34\n",
      "   ----- ---------------------------------- 4.2/32.9 MB 305.1 kB/s eta 0:01:34\n",
      "   ----- ---------------------------------- 4.2/32.9 MB 305.1 kB/s eta 0:01:34\n",
      "   ----- ---------------------------------- 4.2/32.9 MB 305.1 kB/s eta 0:01:34\n",
      "   ----- ---------------------------------- 4.2/32.9 MB 305.1 kB/s eta 0:01:34\n",
      "   ----- ---------------------------------- 4.2/32.9 MB 305.1 kB/s eta 0:01:34\n",
      "   ----- ---------------------------------- 4.2/32.9 MB 305.1 kB/s eta 0:01:34\n",
      "   ----- ---------------------------------- 4.2/32.9 MB 305.1 kB/s eta 0:01:34\n",
      "   ----- ---------------------------------- 4.2/32.9 MB 305.1 kB/s eta 0:01:34\n",
      "   ----- ---------------------------------- 4.2/32.9 MB 305.1 kB/s eta 0:01:34\n",
      "   ----- ---------------------------------- 4.2/32.9 MB 305.1 kB/s eta 0:01:34\n",
      "   ----- ---------------------------------- 4.2/32.9 MB 305.1 kB/s eta 0:01:34\n",
      "   ----- ---------------------------------- 4.2/32.9 MB 305.1 kB/s eta 0:01:34\n",
      "   ----- ---------------------------------- 4.2/32.9 MB 305.1 kB/s eta 0:01:34\n",
      "   ----- ---------------------------------- 4.2/32.9 MB 305.1 kB/s eta 0:01:34\n",
      "   ----- ---------------------------------- 4.2/32.9 MB 305.1 kB/s eta 0:01:34\n",
      "   ----- ---------------------------------- 4.2/32.9 MB 305.1 kB/s eta 0:01:34\n",
      "   ----- ---------------------------------- 4.2/32.9 MB 305.1 kB/s eta 0:01:34\n",
      "   ----- ---------------------------------- 4.2/32.9 MB 305.1 kB/s eta 0:01:34\n",
      "   ----- ---------------------------------- 4.2/32.9 MB 305.1 kB/s eta 0:01:34\n",
      "   ----- ---------------------------------- 4.2/32.9 MB 305.1 kB/s eta 0:01:34\n",
      "   ----- ---------------------------------- 4.2/32.9 MB 305.1 kB/s eta 0:01:34\n",
      "   ----- ---------------------------------- 4.2/32.9 MB 305.1 kB/s eta 0:01:34\n",
      "   ----- ---------------------------------- 4.2/32.9 MB 305.1 kB/s eta 0:01:34\n",
      "   ----- ---------------------------------- 4.2/32.9 MB 305.1 kB/s eta 0:01:34\n",
      "   ----- ---------------------------------- 4.2/32.9 MB 305.1 kB/s eta 0:01:34\n",
      "   ----- ---------------------------------- 4.2/32.9 MB 305.1 kB/s eta 0:01:34\n",
      "   ----- ---------------------------------- 4.2/32.9 MB 305.1 kB/s eta 0:01:34\n",
      "   ----- ---------------------------------- 4.2/32.9 MB 305.1 kB/s eta 0:01:34\n",
      "   ----- ---------------------------------- 4.2/32.9 MB 305.1 kB/s eta 0:01:34\n",
      "   ----- ---------------------------------- 4.2/32.9 MB 305.1 kB/s eta 0:01:34\n",
      "   ----- ---------------------------------- 4.2/32.9 MB 305.1 kB/s eta 0:01:34\n",
      "   ----- ---------------------------------- 4.2/32.9 MB 305.1 kB/s eta 0:01:34\n",
      "   ----- ---------------------------------- 4.2/32.9 MB 305.1 kB/s eta 0:01:34\n",
      "   ----- ---------------------------------- 4.2/32.9 MB 305.1 kB/s eta 0:01:34\n",
      "   ----- ---------------------------------- 4.2/32.9 MB 305.1 kB/s eta 0:01:34\n",
      "   ----- ---------------------------------- 4.2/32.9 MB 305.1 kB/s eta 0:01:34\n",
      "   ----- ---------------------------------- 4.2/32.9 MB 305.1 kB/s eta 0:01:34\n",
      "   ----- ---------------------------------- 4.2/32.9 MB 305.1 kB/s eta 0:01:34\n",
      "   ----- ---------------------------------- 4.2/32.9 MB 305.1 kB/s eta 0:01:34\n",
      "   ----- ---------------------------------- 4.2/32.9 MB 305.1 kB/s eta 0:01:34\n",
      "   ----- ---------------------------------- 4.2/32.9 MB 305.1 kB/s eta 0:01:34\n",
      "   ----- ---------------------------------- 4.2/32.9 MB 305.1 kB/s eta 0:01:34\n",
      "   ----- ---------------------------------- 4.2/32.9 MB 305.1 kB/s eta 0:01:34\n",
      "   ----- ---------------------------------- 4.2/32.9 MB 305.1 kB/s eta 0:01:34\n",
      "   ----- ---------------------------------- 4.2/32.9 MB 305.1 kB/s eta 0:01:34\n",
      "   ----- ---------------------------------- 4.2/32.9 MB 305.1 kB/s eta 0:01:34\n",
      "   ----- ---------------------------------- 4.5/32.9 MB 166.0 kB/s eta 0:02:52\n",
      "   ----- ---------------------------------- 4.5/32.9 MB 166.0 kB/s eta 0:02:52\n",
      "   ----- ---------------------------------- 4.5/32.9 MB 166.0 kB/s eta 0:02:52\n",
      "   ----- ---------------------------------- 4.5/32.9 MB 166.0 kB/s eta 0:02:52\n",
      "   ----- ---------------------------------- 4.5/32.9 MB 166.0 kB/s eta 0:02:52\n",
      "   ----- ---------------------------------- 4.5/32.9 MB 166.0 kB/s eta 0:02:52\n",
      "   ----- ---------------------------------- 4.5/32.9 MB 166.0 kB/s eta 0:02:52\n",
      "   ----- ---------------------------------- 4.5/32.9 MB 166.0 kB/s eta 0:02:52\n",
      "   ----- ---------------------------------- 4.5/32.9 MB 166.0 kB/s eta 0:02:52\n",
      "   ----- ---------------------------------- 4.5/32.9 MB 166.0 kB/s eta 0:02:52\n",
      "   ----- ---------------------------------- 4.5/32.9 MB 166.0 kB/s eta 0:02:52\n",
      "   ----- ---------------------------------- 4.5/32.9 MB 166.0 kB/s eta 0:02:52\n",
      "   ----- ---------------------------------- 4.5/32.9 MB 166.0 kB/s eta 0:02:52\n",
      "   ----- ---------------------------------- 4.5/32.9 MB 166.0 kB/s eta 0:02:52\n",
      "   ----- ---------------------------------- 4.5/32.9 MB 166.0 kB/s eta 0:02:52\n",
      "   ----- ---------------------------------- 4.5/32.9 MB 166.0 kB/s eta 0:02:52\n",
      "   ----- ---------------------------------- 4.5/32.9 MB 166.0 kB/s eta 0:02:52\n",
      "   ----- ---------------------------------- 4.5/32.9 MB 166.0 kB/s eta 0:02:52\n",
      "   ----- ---------------------------------- 4.7/32.9 MB 153.5 kB/s eta 0:03:04\n",
      "   ----- ---------------------------------- 4.7/32.9 MB 153.5 kB/s eta 0:03:04\n",
      "   ----- ---------------------------------- 4.7/32.9 MB 153.5 kB/s eta 0:03:04\n",
      "   ----- ---------------------------------- 4.7/32.9 MB 153.5 kB/s eta 0:03:04\n",
      "   ------ --------------------------------- 5.0/32.9 MB 158.1 kB/s eta 0:02:57\n",
      "   ------ --------------------------------- 5.0/32.9 MB 158.1 kB/s eta 0:02:57\n",
      "   ------ --------------------------------- 5.0/32.9 MB 158.1 kB/s eta 0:02:57\n",
      "   ------ --------------------------------- 5.2/32.9 MB 180.9 kB/s eta 0:02:33\n",
      "   ------ --------------------------------- 5.2/32.9 MB 180.9 kB/s eta 0:02:33\n",
      "   ------ --------------------------------- 5.2/32.9 MB 180.9 kB/s eta 0:02:33\n",
      "   ------ --------------------------------- 5.2/32.9 MB 180.9 kB/s eta 0:02:33\n",
      "   ------ --------------------------------- 5.2/32.9 MB 180.9 kB/s eta 0:02:33\n",
      "   ------ --------------------------------- 5.2/32.9 MB 180.9 kB/s eta 0:02:33\n",
      "   ------ --------------------------------- 5.5/32.9 MB 181.6 kB/s eta 0:02:31\n",
      "   ------ --------------------------------- 5.5/32.9 MB 181.6 kB/s eta 0:02:31\n",
      "   ------ --------------------------------- 5.5/32.9 MB 181.6 kB/s eta 0:02:31\n",
      "   ------ --------------------------------- 5.5/32.9 MB 181.6 kB/s eta 0:02:31\n",
      "   ------ --------------------------------- 5.5/32.9 MB 181.6 kB/s eta 0:02:31\n",
      "   ------ --------------------------------- 5.5/32.9 MB 181.6 kB/s eta 0:02:31\n",
      "   ------- -------------------------------- 5.8/32.9 MB 183.6 kB/s eta 0:02:28\n",
      "   ------- -------------------------------- 5.8/32.9 MB 183.6 kB/s eta 0:02:28\n",
      "   ------- -------------------------------- 5.8/32.9 MB 183.6 kB/s eta 0:02:28\n",
      "   ------- -------------------------------- 6.0/32.9 MB 187.9 kB/s eta 0:02:23\n",
      "   ------- -------------------------------- 6.0/32.9 MB 187.9 kB/s eta 0:02:23\n",
      "   ------- -------------------------------- 6.0/32.9 MB 187.9 kB/s eta 0:02:23\n",
      "   ------- -------------------------------- 6.3/32.9 MB 192.7 kB/s eta 0:02:18\n",
      "   ------- -------------------------------- 6.3/32.9 MB 192.7 kB/s eta 0:02:18\n",
      "   ------- -------------------------------- 6.6/32.9 MB 195.0 kB/s eta 0:02:15\n",
      "   -------- ------------------------------- 6.8/32.9 MB 201.6 kB/s eta 0:02:10\n",
      "   -------- ------------------------------- 6.8/32.9 MB 201.6 kB/s eta 0:02:10\n",
      "   -------- ------------------------------- 6.8/32.9 MB 201.6 kB/s eta 0:02:10\n",
      "   -------- ------------------------------- 7.1/32.9 MB 204.3 kB/s eta 0:02:07\n",
      "   -------- ------------------------------- 7.1/32.9 MB 204.3 kB/s eta 0:02:07\n",
      "   -------- ------------------------------- 7.1/32.9 MB 204.3 kB/s eta 0:02:07\n",
      "   -------- ------------------------------- 7.3/32.9 MB 203.1 kB/s eta 0:02:06\n",
      "   -------- ------------------------------- 7.3/32.9 MB 203.1 kB/s eta 0:02:06\n",
      "   -------- ------------------------------- 7.3/32.9 MB 203.1 kB/s eta 0:02:06\n",
      "   -------- ------------------------------- 7.3/32.9 MB 203.1 kB/s eta 0:02:06\n",
      "   -------- ------------------------------- 7.3/32.9 MB 203.1 kB/s eta 0:02:06\n",
      "   -------- ------------------------------- 7.3/32.9 MB 203.1 kB/s eta 0:02:06\n",
      "   -------- ------------------------------- 7.3/32.9 MB 203.1 kB/s eta 0:02:06\n",
      "   -------- ------------------------------- 7.3/32.9 MB 203.1 kB/s eta 0:02:06\n",
      "   -------- ------------------------------- 7.3/32.9 MB 203.1 kB/s eta 0:02:06\n",
      "   -------- ------------------------------- 7.3/32.9 MB 203.1 kB/s eta 0:02:06\n",
      "   -------- ------------------------------- 7.3/32.9 MB 203.1 kB/s eta 0:02:06\n",
      "   -------- ------------------------------- 7.3/32.9 MB 203.1 kB/s eta 0:02:06\n",
      "   -------- ------------------------------- 7.3/32.9 MB 203.1 kB/s eta 0:02:06\n",
      "   -------- ------------------------------- 7.3/32.9 MB 203.1 kB/s eta 0:02:06\n",
      "   -------- ------------------------------- 7.3/32.9 MB 203.1 kB/s eta 0:02:06\n",
      "   -------- ------------------------------- 7.3/32.9 MB 203.1 kB/s eta 0:02:06\n",
      "   -------- ------------------------------- 7.3/32.9 MB 203.1 kB/s eta 0:02:06\n",
      "   -------- ------------------------------- 7.3/32.9 MB 203.1 kB/s eta 0:02:06\n",
      "   -------- ------------------------------- 7.3/32.9 MB 203.1 kB/s eta 0:02:06\n",
      "   -------- ------------------------------- 7.3/32.9 MB 203.1 kB/s eta 0:02:06\n",
      "   -------- ------------------------------- 7.3/32.9 MB 203.1 kB/s eta 0:02:06\n",
      "   -------- ------------------------------- 7.3/32.9 MB 203.1 kB/s eta 0:02:06\n",
      "   -------- ------------------------------- 7.3/32.9 MB 203.1 kB/s eta 0:02:06\n",
      "   -------- ------------------------------- 7.3/32.9 MB 203.1 kB/s eta 0:02:06\n",
      "   -------- ------------------------------- 7.3/32.9 MB 203.1 kB/s eta 0:02:06\n",
      "   -------- ------------------------------- 7.3/32.9 MB 203.1 kB/s eta 0:02:06\n",
      "   -------- ------------------------------- 7.3/32.9 MB 203.1 kB/s eta 0:02:06\n",
      "   -------- ------------------------------- 7.3/32.9 MB 203.1 kB/s eta 0:02:06\n",
      "   -------- ------------------------------- 7.3/32.9 MB 203.1 kB/s eta 0:02:06\n",
      "   -------- ------------------------------- 7.3/32.9 MB 203.1 kB/s eta 0:02:06\n",
      "   -------- ------------------------------- 7.3/32.9 MB 203.1 kB/s eta 0:02:06\n",
      "   -------- ------------------------------- 7.3/32.9 MB 203.1 kB/s eta 0:02:06\n",
      "   -------- ------------------------------- 7.3/32.9 MB 203.1 kB/s eta 0:02:06\n",
      "   -------- ------------------------------- 7.3/32.9 MB 203.1 kB/s eta 0:02:06\n",
      "   -------- ------------------------------- 7.3/32.9 MB 203.1 kB/s eta 0:02:06\n",
      "   -------- ------------------------------- 7.3/32.9 MB 203.1 kB/s eta 0:02:06\n",
      "   -------- ------------------------------- 7.3/32.9 MB 203.1 kB/s eta 0:02:06\n",
      "   -------- ------------------------------- 7.3/32.9 MB 203.1 kB/s eta 0:02:06\n",
      "   -------- ------------------------------- 7.3/32.9 MB 203.1 kB/s eta 0:02:06\n",
      "   -------- ------------------------------- 7.3/32.9 MB 203.1 kB/s eta 0:02:06\n",
      "   --------- ------------------------------ 7.6/32.9 MB 161.3 kB/s eta 0:02:37\n",
      "   --------- ------------------------------ 7.6/32.9 MB 161.3 kB/s eta 0:02:37\n",
      "   --------- ------------------------------ 7.6/32.9 MB 161.3 kB/s eta 0:02:37\n",
      "   --------- ------------------------------ 7.6/32.9 MB 161.3 kB/s eta 0:02:37\n",
      "   --------- ------------------------------ 7.6/32.9 MB 161.3 kB/s eta 0:02:37\n",
      "   --------- ------------------------------ 7.6/32.9 MB 161.3 kB/s eta 0:02:37\n",
      "   --------- ------------------------------ 7.6/32.9 MB 161.3 kB/s eta 0:02:37\n",
      "   --------- ------------------------------ 7.9/32.9 MB 161.1 kB/s eta 0:02:36\n",
      "   --------- ------------------------------ 7.9/32.9 MB 161.1 kB/s eta 0:02:36\n",
      "   --------- ------------------------------ 7.9/32.9 MB 161.1 kB/s eta 0:02:36\n",
      "   --------- ------------------------------ 7.9/32.9 MB 161.1 kB/s eta 0:02:36\n",
      "   --------- ------------------------------ 8.1/32.9 MB 166.8 kB/s eta 0:02:29\n",
      "   --------- ------------------------------ 8.1/32.9 MB 166.8 kB/s eta 0:02:29\n",
      "   --------- ------------------------------ 8.1/32.9 MB 166.8 kB/s eta 0:02:29\n",
      "   --------- ------------------------------ 8.1/32.9 MB 166.8 kB/s eta 0:02:29\n",
      "   --------- ------------------------------ 8.1/32.9 MB 166.8 kB/s eta 0:02:29\n",
      "   --------- ------------------------------ 8.1/32.9 MB 166.8 kB/s eta 0:02:29\n",
      "   ---------- ----------------------------- 8.4/32.9 MB 169.6 kB/s eta 0:02:25\n",
      "   ---------- ----------------------------- 8.4/32.9 MB 169.6 kB/s eta 0:02:25\n",
      "   ---------- ----------------------------- 8.4/32.9 MB 169.6 kB/s eta 0:02:25\n",
      "   ---------- ----------------------------- 8.4/32.9 MB 169.6 kB/s eta 0:02:25\n",
      "   ---------- ----------------------------- 8.7/32.9 MB 174.3 kB/s eta 0:02:19\n",
      "   ---------- ----------------------------- 8.7/32.9 MB 174.3 kB/s eta 0:02:19\n",
      "   ---------- ----------------------------- 8.7/32.9 MB 174.3 kB/s eta 0:02:19\n",
      "   ---------- ----------------------------- 8.7/32.9 MB 174.3 kB/s eta 0:02:19\n",
      "   ---------- ----------------------------- 8.7/32.9 MB 174.3 kB/s eta 0:02:19\n",
      "   ---------- ----------------------------- 8.7/32.9 MB 174.3 kB/s eta 0:02:19\n",
      "   ---------- ----------------------------- 8.7/32.9 MB 174.3 kB/s eta 0:02:19\n",
      "   ---------- ----------------------------- 8.7/32.9 MB 174.3 kB/s eta 0:02:19\n",
      "   ---------- ----------------------------- 8.9/32.9 MB 173.0 kB/s eta 0:02:19\n",
      "   ---------- ----------------------------- 8.9/32.9 MB 173.0 kB/s eta 0:02:19\n",
      "   ---------- ----------------------------- 8.9/32.9 MB 173.0 kB/s eta 0:02:19\n",
      "   ---------- ----------------------------- 8.9/32.9 MB 173.0 kB/s eta 0:02:19\n",
      "   ---------- ----------------------------- 8.9/32.9 MB 173.0 kB/s eta 0:02:19\n",
      "   ---------- ----------------------------- 8.9/32.9 MB 173.0 kB/s eta 0:02:19\n",
      "   ---------- ----------------------------- 8.9/32.9 MB 173.0 kB/s eta 0:02:19\n",
      "   ----------- ---------------------------- 9.2/32.9 MB 173.2 kB/s eta 0:02:17\n",
      "   ----------- ---------------------------- 9.2/32.9 MB 173.2 kB/s eta 0:02:17\n",
      "   ----------- ---------------------------- 9.2/32.9 MB 173.2 kB/s eta 0:02:17\n",
      "   ----------- ---------------------------- 9.2/32.9 MB 173.2 kB/s eta 0:02:17\n",
      "   ----------- ---------------------------- 9.2/32.9 MB 173.2 kB/s eta 0:02:17\n",
      "   ----------- ---------------------------- 9.2/32.9 MB 173.2 kB/s eta 0:02:17\n",
      "   ----------- ---------------------------- 9.2/32.9 MB 173.2 kB/s eta 0:02:17\n",
      "   ----------- ---------------------------- 9.2/32.9 MB 173.2 kB/s eta 0:02:17\n",
      "   ----------- ---------------------------- 9.2/32.9 MB 173.2 kB/s eta 0:02:17\n",
      "   ----------- ---------------------------- 9.2/32.9 MB 173.2 kB/s eta 0:02:17\n",
      "   ----------- ---------------------------- 9.2/32.9 MB 173.2 kB/s eta 0:02:17\n",
      "   ----------- ---------------------------- 9.2/32.9 MB 173.2 kB/s eta 0:02:17\n",
      "   ----------- ---------------------------- 9.2/32.9 MB 173.2 kB/s eta 0:02:17\n",
      "   ----------- ---------------------------- 9.2/32.9 MB 173.2 kB/s eta 0:02:17\n",
      "   ----------- ---------------------------- 9.2/32.9 MB 173.2 kB/s eta 0:02:17\n",
      "   ----------- ---------------------------- 9.2/32.9 MB 173.2 kB/s eta 0:02:17\n",
      "   ----------- ---------------------------- 9.2/32.9 MB 173.2 kB/s eta 0:02:17\n",
      "   ----------- ---------------------------- 9.2/32.9 MB 173.2 kB/s eta 0:02:17\n",
      "   ----------- ---------------------------- 9.2/32.9 MB 173.2 kB/s eta 0:02:17\n",
      "   ----------- ---------------------------- 9.2/32.9 MB 173.2 kB/s eta 0:02:17\n",
      "   ----------- ---------------------------- 9.2/32.9 MB 173.2 kB/s eta 0:02:17\n",
      "   ----------- ---------------------------- 9.2/32.9 MB 173.2 kB/s eta 0:02:17\n",
      "   ----------- ---------------------------- 9.2/32.9 MB 173.2 kB/s eta 0:02:17\n",
      "   ----------- ---------------------------- 9.2/32.9 MB 173.2 kB/s eta 0:02:17\n",
      "   ----------- ---------------------------- 9.2/32.9 MB 173.2 kB/s eta 0:02:17\n",
      "   ----------- ---------------------------- 9.2/32.9 MB 173.2 kB/s eta 0:02:17\n",
      "   ----------- ---------------------------- 9.2/32.9 MB 173.2 kB/s eta 0:02:17\n",
      "   ----------- ---------------------------- 9.2/32.9 MB 173.2 kB/s eta 0:02:17\n",
      "   ----------- ---------------------------- 9.2/32.9 MB 173.2 kB/s eta 0:02:17\n",
      "   ----------- ---------------------------- 9.2/32.9 MB 173.2 kB/s eta 0:02:17\n",
      "   ----------- ---------------------------- 9.2/32.9 MB 173.2 kB/s eta 0:02:17\n",
      "   ----------- ---------------------------- 9.2/32.9 MB 173.2 kB/s eta 0:02:17\n",
      "   ----------- ---------------------------- 9.2/32.9 MB 173.2 kB/s eta 0:02:17\n",
      "   ----------- ---------------------------- 9.2/32.9 MB 173.2 kB/s eta 0:02:17\n",
      "   ----------- ---------------------------- 9.2/32.9 MB 173.2 kB/s eta 0:02:17\n",
      "   ----------- ---------------------------- 9.2/32.9 MB 173.2 kB/s eta 0:02:17\n",
      "   ----------- ---------------------------- 9.2/32.9 MB 173.2 kB/s eta 0:02:17\n",
      "   ----------- ---------------------------- 9.2/32.9 MB 173.2 kB/s eta 0:02:17\n",
      "   ----------- ---------------------------- 9.2/32.9 MB 173.2 kB/s eta 0:02:17\n",
      "   ----------- ---------------------------- 9.2/32.9 MB 173.2 kB/s eta 0:02:17\n",
      "   ----------- ---------------------------- 9.2/32.9 MB 173.2 kB/s eta 0:02:17\n",
      "   ----------- ---------------------------- 9.2/32.9 MB 173.2 kB/s eta 0:02:17\n",
      "   ----------- ---------------------------- 9.2/32.9 MB 173.2 kB/s eta 0:02:17\n",
      "   ----------- ---------------------------- 9.2/32.9 MB 173.2 kB/s eta 0:02:17\n",
      "   ----------- ---------------------------- 9.2/32.9 MB 173.2 kB/s eta 0:02:17\n",
      "   ----------- ---------------------------- 9.2/32.9 MB 173.2 kB/s eta 0:02:17\n",
      "   ----------- ---------------------------- 9.2/32.9 MB 173.2 kB/s eta 0:02:17\n",
      "   ----------- ---------------------------- 9.2/32.9 MB 173.2 kB/s eta 0:02:17\n",
      "   ----------- ---------------------------- 9.2/32.9 MB 173.2 kB/s eta 0:02:17\n",
      "   ----------- ---------------------------- 9.2/32.9 MB 173.2 kB/s eta 0:02:17\n",
      "   ----------- ---------------------------- 9.2/32.9 MB 173.2 kB/s eta 0:02:17\n",
      "   ----------- ---------------------------- 9.2/32.9 MB 173.2 kB/s eta 0:02:17\n",
      "   ----------- ---------------------------- 9.2/32.9 MB 173.2 kB/s eta 0:02:17\n",
      "   ----------- ---------------------------- 9.2/32.9 MB 173.2 kB/s eta 0:02:17\n",
      "   ----------- ---------------------------- 9.2/32.9 MB 173.2 kB/s eta 0:02:17\n",
      "   ----------- ---------------------------- 9.2/32.9 MB 173.2 kB/s eta 0:02:17\n",
      "   ----------- ---------------------------- 9.2/32.9 MB 173.2 kB/s eta 0:02:17\n",
      "   ----------- ---------------------------- 9.2/32.9 MB 173.2 kB/s eta 0:02:17\n",
      "   ----------- ---------------------------- 9.2/32.9 MB 173.2 kB/s eta 0:02:17\n",
      "   ----------- ---------------------------- 9.2/32.9 MB 173.2 kB/s eta 0:02:17\n",
      "   ----------- ---------------------------- 9.2/32.9 MB 173.2 kB/s eta 0:02:17\n",
      "   ----------- ---------------------------- 9.2/32.9 MB 173.2 kB/s eta 0:02:17\n",
      "   ----------- ---------------------------- 9.2/32.9 MB 173.2 kB/s eta 0:02:17\n",
      "   ----------- ---------------------------- 9.2/32.9 MB 173.2 kB/s eta 0:02:17\n",
      "   ----------- ---------------------------- 9.2/32.9 MB 173.2 kB/s eta 0:02:17\n",
      "   ----------- ---------------------------- 9.2/32.9 MB 173.2 kB/s eta 0:02:17\n",
      "   ----------- ---------------------------- 9.2/32.9 MB 173.2 kB/s eta 0:02:17\n",
      "   ----------- ---------------------------- 9.2/32.9 MB 173.2 kB/s eta 0:02:17\n",
      "   ----------- ---------------------------- 9.2/32.9 MB 173.2 kB/s eta 0:02:17\n",
      "   ----------- ---------------------------- 9.2/32.9 MB 173.2 kB/s eta 0:02:17\n",
      "   ----------- ---------------------------- 9.2/32.9 MB 173.2 kB/s eta 0:02:17\n",
      "   ----------- ---------------------------- 9.2/32.9 MB 173.2 kB/s eta 0:02:17\n",
      "   ----------- ---------------------------- 9.2/32.9 MB 173.2 kB/s eta 0:02:17\n",
      "   ----------- ---------------------------- 9.2/32.9 MB 173.2 kB/s eta 0:02:17\n",
      "   ----------- ---------------------------- 9.2/32.9 MB 173.2 kB/s eta 0:02:17\n",
      "   ----------- ---------------------------- 9.2/32.9 MB 173.2 kB/s eta 0:02:17\n",
      "Note: you may need to restart the kernel to use updated packages.\n"
     ]
    },
    {
     "name": "stderr",
     "output_type": "stream",
     "text": [
      "WARNING: Connection timed out while downloading.\n",
      "ERROR: Could not install packages due to an OSError: [WinError 32] The process cannot access the file because it is being used by another process: 'C:\\\\Users\\\\yasha\\\\AppData\\\\Local\\\\Temp\\\\pip-unpack-760x4cwe\\\\speechrecognition-3.14.3-py3-none-any.whl'\n",
      "Consider using the `--user` option or check the permissions.\n",
      "\n"
     ]
    },
    {
     "name": "stdout",
     "output_type": "stream",
     "text": [
      "Collecting pyaudio\n",
      "  Downloading PyAudio-0.2.14-cp311-cp311-win_amd64.whl.metadata (2.7 kB)\n",
      "Downloading PyAudio-0.2.14-cp311-cp311-win_amd64.whl (164 kB)\n",
      "Installing collected packages: pyaudio\n",
      "Successfully installed pyaudio-0.2.14\n",
      "Note: you may need to restart the kernel to use updated packages.\n"
     ]
    }
   ],
   "source": [
    "#speech to text(stt)\n",
    "# %pip install SpeechRecognition\n",
    "# %pip install pyaudio"
   ]
  },
  {
   "cell_type": "code",
   "execution_count": 6,
   "id": "6b3ba416",
   "metadata": {},
   "outputs": [
    {
     "name": "stdout",
     "output_type": "stream",
     "text": [
      "Collecting SpeechRecognition\n",
      "  Using cached speechrecognition-3.14.3-py3-none-any.whl.metadata (30 kB)\n",
      "Requirement already satisfied: typing-extensions in c:\\users\\yasha\\appdata\\roaming\\python\\python311\\site-packages (from SpeechRecognition) (4.14.0)\n",
      "Downloading speechrecognition-3.14.3-py3-none-any.whl (32.9 MB)\n",
      "   ---------------------------------------- 0.0/32.9 MB ? eta -:--:--\n",
      "    --------------------------------------- 0.8/32.9 MB 4.2 MB/s eta 0:00:08\n",
      "   - -------------------------------------- 1.6/32.9 MB 4.2 MB/s eta 0:00:08\n",
      "   -- ------------------------------------- 2.4/32.9 MB 3.9 MB/s eta 0:00:08\n",
      "   --- ------------------------------------ 3.1/32.9 MB 3.9 MB/s eta 0:00:08\n",
      "   ---- ----------------------------------- 3.7/32.9 MB 4.1 MB/s eta 0:00:08\n",
      "   ----- ---------------------------------- 4.2/32.9 MB 3.5 MB/s eta 0:00:09\n",
      "   ----- ---------------------------------- 4.2/32.9 MB 3.5 MB/s eta 0:00:09\n",
      "   ------ --------------------------------- 5.0/32.9 MB 2.8 MB/s eta 0:00:10\n",
      "   ------- -------------------------------- 5.8/32.9 MB 2.9 MB/s eta 0:00:10\n",
      "   ------- -------------------------------- 5.8/32.9 MB 2.9 MB/s eta 0:00:10\n",
      "   ------- -------------------------------- 6.0/32.9 MB 2.7 MB/s eta 0:00:10\n",
      "   ------- -------------------------------- 6.6/32.9 MB 2.5 MB/s eta 0:00:11\n",
      "   ------- -------------------------------- 6.6/32.9 MB 2.5 MB/s eta 0:00:11\n",
      "   ------- -------------------------------- 6.6/32.9 MB 2.5 MB/s eta 0:00:11\n",
      "   -------- ------------------------------- 6.8/32.9 MB 2.1 MB/s eta 0:00:13\n",
      "   -------- ------------------------------- 7.1/32.9 MB 2.0 MB/s eta 0:00:13\n",
      "   -------- ------------------------------- 7.3/32.9 MB 2.0 MB/s eta 0:00:13\n",
      "   --------- ------------------------------ 7.9/32.9 MB 2.0 MB/s eta 0:00:13\n",
      "   ---------- ----------------------------- 8.4/32.9 MB 2.0 MB/s eta 0:00:12\n",
      "   ----------- ---------------------------- 9.2/32.9 MB 2.1 MB/s eta 0:00:12\n",
      "   ----------- ---------------------------- 9.7/32.9 MB 2.2 MB/s eta 0:00:11\n",
      "   ------------ --------------------------- 10.0/32.9 MB 2.1 MB/s eta 0:00:11\n",
      "   ------------ --------------------------- 10.2/32.9 MB 2.1 MB/s eta 0:00:11\n",
      "   ------------ --------------------------- 10.5/32.9 MB 2.1 MB/s eta 0:00:11\n",
      "   ------------- -------------------------- 10.7/32.9 MB 2.0 MB/s eta 0:00:11\n",
      "   ------------- -------------------------- 10.7/32.9 MB 2.0 MB/s eta 0:00:11\n",
      "   ------------- -------------------------- 11.0/32.9 MB 1.9 MB/s eta 0:00:12\n",
      "   ------------- -------------------------- 11.0/32.9 MB 1.9 MB/s eta 0:00:12\n",
      "   ------------- -------------------------- 11.3/32.9 MB 1.8 MB/s eta 0:00:12\n",
      "   -------------- ------------------------- 11.5/32.9 MB 1.8 MB/s eta 0:00:12\n",
      "   -------------- ------------------------- 11.8/32.9 MB 1.8 MB/s eta 0:00:12\n",
      "   -------------- ------------------------- 12.1/32.9 MB 1.8 MB/s eta 0:00:12\n",
      "   --------------- ------------------------ 12.3/32.9 MB 1.7 MB/s eta 0:00:12\n",
      "   --------------- ------------------------ 12.6/32.9 MB 1.7 MB/s eta 0:00:12\n",
      "   --------------- ------------------------ 13.1/32.9 MB 1.7 MB/s eta 0:00:12\n",
      "   --------------- ------------------------ 13.1/32.9 MB 1.7 MB/s eta 0:00:12\n",
      "   ---------------- ----------------------- 13.4/32.9 MB 1.7 MB/s eta 0:00:12\n",
      "   ---------------- ----------------------- 13.4/32.9 MB 1.7 MB/s eta 0:00:12\n",
      "   ---------------- ----------------------- 13.6/32.9 MB 1.7 MB/s eta 0:00:12\n",
      "   ---------------- ----------------------- 13.9/32.9 MB 1.6 MB/s eta 0:00:12\n",
      "   ---------------- ----------------------- 13.9/32.9 MB 1.6 MB/s eta 0:00:12\n",
      "   ---------------- ----------------------- 13.9/32.9 MB 1.6 MB/s eta 0:00:12\n",
      "   ----------------- ---------------------- 14.2/32.9 MB 1.5 MB/s eta 0:00:13\n",
      "   ----------------- ---------------------- 14.2/32.9 MB 1.5 MB/s eta 0:00:13\n",
      "   ----------------- ---------------------- 14.4/32.9 MB 1.5 MB/s eta 0:00:13\n",
      "   ----------------- ---------------------- 14.7/32.9 MB 1.5 MB/s eta 0:00:13\n",
      "   ----------------- ---------------------- 14.7/32.9 MB 1.5 MB/s eta 0:00:13\n",
      "   ------------------ --------------------- 14.9/32.9 MB 1.4 MB/s eta 0:00:13\n",
      "   ------------------ --------------------- 14.9/32.9 MB 1.4 MB/s eta 0:00:13\n",
      "   ------------------ --------------------- 14.9/32.9 MB 1.4 MB/s eta 0:00:13\n",
      "   ------------------ --------------------- 14.9/32.9 MB 1.4 MB/s eta 0:00:13\n",
      "   ------------------ --------------------- 14.9/32.9 MB 1.4 MB/s eta 0:00:13\n",
      "   ------------------ --------------------- 15.5/32.9 MB 1.4 MB/s eta 0:00:13\n",
      "   ------------------ --------------------- 15.5/32.9 MB 1.4 MB/s eta 0:00:13\n",
      "   ------------------- -------------------- 15.7/32.9 MB 1.3 MB/s eta 0:00:13\n",
      "   ------------------- -------------------- 15.7/32.9 MB 1.3 MB/s eta 0:00:13\n",
      "   ------------------- -------------------- 16.0/32.9 MB 1.3 MB/s eta 0:00:13\n",
      "   ------------------- -------------------- 16.3/32.9 MB 1.3 MB/s eta 0:00:13\n",
      "   ------------------- -------------------- 16.3/32.9 MB 1.3 MB/s eta 0:00:13\n",
      "   ------------------- -------------------- 16.3/32.9 MB 1.3 MB/s eta 0:00:13\n",
      "   -------------------- ------------------- 16.5/32.9 MB 1.3 MB/s eta 0:00:13\n",
      "   -------------------- ------------------- 16.5/32.9 MB 1.3 MB/s eta 0:00:13\n",
      "   -------------------- ------------------- 16.5/32.9 MB 1.3 MB/s eta 0:00:13\n",
      "   -------------------- ------------------- 16.5/32.9 MB 1.3 MB/s eta 0:00:13\n",
      "   -------------------- ------------------- 16.5/32.9 MB 1.3 MB/s eta 0:00:13\n",
      "   -------------------- ------------------- 16.5/32.9 MB 1.3 MB/s eta 0:00:13\n",
      "   -------------------- ------------------- 16.5/32.9 MB 1.3 MB/s eta 0:00:13\n",
      "   -------------------- ------------------- 16.5/32.9 MB 1.3 MB/s eta 0:00:13\n",
      "   -------------------- ------------------- 16.5/32.9 MB 1.3 MB/s eta 0:00:13\n",
      "   -------------------- ------------------- 16.8/32.9 MB 1.1 MB/s eta 0:00:15\n",
      "   -------------------- ------------------- 16.8/32.9 MB 1.1 MB/s eta 0:00:15\n",
      "   -------------------- ------------------- 16.8/32.9 MB 1.1 MB/s eta 0:00:15\n",
      "   -------------------- ------------------- 17.0/32.9 MB 1.1 MB/s eta 0:00:15\n",
      "   -------------------- ------------------- 17.0/32.9 MB 1.1 MB/s eta 0:00:15\n",
      "   --------------------- ------------------ 17.3/32.9 MB 1.1 MB/s eta 0:00:15\n",
      "   --------------------- ------------------ 17.3/32.9 MB 1.1 MB/s eta 0:00:15\n",
      "   --------------------- ------------------ 17.3/32.9 MB 1.1 MB/s eta 0:00:15\n",
      "   --------------------- ------------------ 17.6/32.9 MB 1.1 MB/s eta 0:00:15\n",
      "   --------------------- ------------------ 17.8/32.9 MB 1.1 MB/s eta 0:00:15\n",
      "   ---------------------- ----------------- 18.1/32.9 MB 1.0 MB/s eta 0:00:15\n",
      "   ---------------------- ----------------- 18.4/32.9 MB 1.1 MB/s eta 0:00:14\n",
      "   ---------------------- ----------------- 18.4/32.9 MB 1.1 MB/s eta 0:00:14\n",
      "   ---------------------- ----------------- 18.6/32.9 MB 1.0 MB/s eta 0:00:14\n",
      "   ---------------------- ----------------- 18.9/32.9 MB 1.0 MB/s eta 0:00:14\n",
      "   ----------------------- ---------------- 19.1/32.9 MB 1.0 MB/s eta 0:00:14\n",
      "   ----------------------- ---------------- 19.1/32.9 MB 1.0 MB/s eta 0:00:14\n",
      "   ----------------------- ---------------- 19.1/32.9 MB 1.0 MB/s eta 0:00:14\n",
      "   ----------------------- ---------------- 19.1/32.9 MB 1.0 MB/s eta 0:00:14\n",
      "   ----------------------- ---------------- 19.4/32.9 MB 1.0 MB/s eta 0:00:14\n",
      "   ----------------------- ---------------- 19.7/32.9 MB 1.0 MB/s eta 0:00:13\n",
      "   ------------------------ --------------- 19.9/32.9 MB 1.0 MB/s eta 0:00:13\n",
      "   ------------------------ --------------- 20.2/32.9 MB 1.0 MB/s eta 0:00:13\n",
      "   ------------------------ --------------- 20.4/32.9 MB 1.0 MB/s eta 0:00:13\n",
      "   ------------------------ --------------- 20.4/32.9 MB 1.0 MB/s eta 0:00:13\n",
      "   ------------------------ --------------- 20.4/32.9 MB 1.0 MB/s eta 0:00:13\n",
      "   ------------------------ --------------- 20.4/32.9 MB 1.0 MB/s eta 0:00:13\n",
      "   ------------------------- -------------- 20.7/32.9 MB 996.7 kB/s eta 0:00:13\n",
      "   ------------------------- -------------- 20.7/32.9 MB 996.7 kB/s eta 0:00:13\n",
      "   ------------------------- -------------- 20.7/32.9 MB 996.7 kB/s eta 0:00:13\n",
      "   ------------------------- -------------- 20.7/32.9 MB 996.7 kB/s eta 0:00:13\n",
      "   ------------------------- -------------- 21.0/32.9 MB 961.8 kB/s eta 0:00:13\n",
      "   ------------------------- -------------- 21.0/32.9 MB 961.8 kB/s eta 0:00:13\n",
      "   ------------------------- -------------- 21.0/32.9 MB 961.8 kB/s eta 0:00:13\n",
      "   ------------------------- -------------- 21.2/32.9 MB 947.9 kB/s eta 0:00:13\n",
      "   ------------------------- -------------- 21.2/32.9 MB 947.9 kB/s eta 0:00:13\n",
      "   ------------------------- -------------- 21.2/32.9 MB 947.9 kB/s eta 0:00:13\n",
      "   ------------------------- -------------- 21.2/32.9 MB 947.9 kB/s eta 0:00:13\n",
      "   ------------------------- -------------- 21.2/32.9 MB 947.9 kB/s eta 0:00:13\n",
      "   -------------------------- ------------- 21.5/32.9 MB 920.1 kB/s eta 0:00:13\n",
      "   -------------------------- ------------- 21.5/32.9 MB 920.1 kB/s eta 0:00:13\n",
      "   -------------------------- ------------- 21.8/32.9 MB 911.7 kB/s eta 0:00:13\n",
      "   -------------------------- ------------- 21.8/32.9 MB 911.7 kB/s eta 0:00:13\n",
      "   -------------------------- ------------- 21.8/32.9 MB 911.7 kB/s eta 0:00:13\n",
      "   -------------------------- ------------- 22.0/32.9 MB 900.7 kB/s eta 0:00:13\n",
      "   -------------------------- ------------- 22.0/32.9 MB 900.7 kB/s eta 0:00:13\n",
      "   --------------------------- ------------ 22.3/32.9 MB 890.3 kB/s eta 0:00:12\n",
      "   --------------------------- ------------ 22.3/32.9 MB 890.3 kB/s eta 0:00:12\n",
      "   --------------------------- ------------ 22.5/32.9 MB 889.6 kB/s eta 0:00:12\n",
      "   --------------------------- ------------ 22.8/32.9 MB 887.9 kB/s eta 0:00:12\n",
      "   --------------------------- ------------ 22.8/32.9 MB 887.9 kB/s eta 0:00:12\n",
      "   ---------------------------- ----------- 23.1/32.9 MB 888.4 kB/s eta 0:00:12\n",
      "   ---------------------------- ----------- 23.1/32.9 MB 888.4 kB/s eta 0:00:12\n",
      "   ---------------------------- ----------- 23.1/32.9 MB 888.4 kB/s eta 0:00:12\n",
      "   ---------------------------- ----------- 23.1/32.9 MB 888.4 kB/s eta 0:00:12\n",
      "   ---------------------------- ----------- 23.3/32.9 MB 870.5 kB/s eta 0:00:11\n",
      "   ---------------------------- ----------- 23.6/32.9 MB 867.1 kB/s eta 0:00:11\n",
      "   ---------------------------- ----------- 23.6/32.9 MB 867.1 kB/s eta 0:00:11\n",
      "   ----------------------------- ---------- 23.9/32.9 MB 864.3 kB/s eta 0:00:11\n",
      "   ----------------------------- ---------- 24.1/32.9 MB 869.5 kB/s eta 0:00:11\n",
      "   ----------------------------- ---------- 24.4/32.9 MB 872.5 kB/s eta 0:00:10\n",
      "   ------------------------------ --------- 24.6/32.9 MB 875.6 kB/s eta 0:00:10\n",
      "   ------------------------------ --------- 24.9/32.9 MB 879.1 kB/s eta 0:00:10\n",
      "   ------------------------------ --------- 25.2/32.9 MB 882.0 kB/s eta 0:00:09\n",
      "   ------------------------------ --------- 25.4/32.9 MB 885.4 kB/s eta 0:00:09\n",
      "   ------------------------------ --------- 25.4/32.9 MB 885.4 kB/s eta 0:00:09\n",
      "   ------------------------------- -------- 25.7/32.9 MB 877.3 kB/s eta 0:00:09\n",
      "   ------------------------------- -------- 25.7/32.9 MB 877.3 kB/s eta 0:00:09\n",
      "   ------------------------------- -------- 25.7/32.9 MB 877.3 kB/s eta 0:00:09\n",
      "   ------------------------------- -------- 26.0/32.9 MB 865.8 kB/s eta 0:00:08\n",
      "   ------------------------------- -------- 26.0/32.9 MB 865.8 kB/s eta 0:00:08\n",
      "   -------------------------------- ------- 26.5/32.9 MB 857.7 kB/s eta 0:00:08\n",
      "   -------------------------------- ------- 26.7/32.9 MB 849.8 kB/s eta 0:00:08\n",
      "   -------------------------------- ------- 26.7/32.9 MB 849.8 kB/s eta 0:00:08\n",
      "   -------------------------------- ------- 26.7/32.9 MB 849.8 kB/s eta 0:00:08\n",
      "   -------------------------------- ------- 26.7/32.9 MB 849.8 kB/s eta 0:00:08\n",
      "   -------------------------------- ------- 27.0/32.9 MB 760.2 kB/s eta 0:00:08\n",
      "   -------------------------------- ------- 27.0/32.9 MB 760.2 kB/s eta 0:00:08\n",
      "   -------------------------------- ------- 27.0/32.9 MB 760.2 kB/s eta 0:00:08\n",
      "   --------------------------------- ------ 27.5/32.9 MB 726.8 kB/s eta 0:00:08\n",
      "   --------------------------------- ------ 27.8/32.9 MB 727.9 kB/s eta 0:00:07\n",
      "   ---------------------------------- ----- 28.0/32.9 MB 729.1 kB/s eta 0:00:07\n",
      "   ---------------------------------- ----- 28.0/32.9 MB 729.1 kB/s eta 0:00:07\n",
      "   ---------------------------------- ----- 28.3/32.9 MB 725.3 kB/s eta 0:00:07\n",
      "   ---------------------------------- ----- 28.3/32.9 MB 725.3 kB/s eta 0:00:07\n",
      "   ---------------------------------- ----- 28.3/32.9 MB 725.3 kB/s eta 0:00:07\n",
      "   ---------------------------------- ----- 28.3/32.9 MB 725.3 kB/s eta 0:00:07\n",
      "   ---------------------------------- ----- 28.3/32.9 MB 725.3 kB/s eta 0:00:07\n",
      "   ---------------------------------- ----- 28.6/32.9 MB 700.5 kB/s eta 0:00:07\n",
      "   ---------------------------------- ----- 28.6/32.9 MB 700.5 kB/s eta 0:00:07\n",
      "   ---------------------------------- ----- 28.6/32.9 MB 700.5 kB/s eta 0:00:07\n",
      "   ----------------------------------- ---- 28.8/32.9 MB 655.7 kB/s eta 0:00:07\n",
      "   ----------------------------------- ---- 28.8/32.9 MB 655.7 kB/s eta 0:00:07\n",
      "   ----------------------------------- ---- 29.1/32.9 MB 639.2 kB/s eta 0:00:06\n",
      "   ----------------------------------- ---- 29.1/32.9 MB 639.2 kB/s eta 0:00:06\n",
      "   ----------------------------------- ---- 29.1/32.9 MB 639.2 kB/s eta 0:00:06\n",
      "   ----------------------------------- ---- 29.4/32.9 MB 616.2 kB/s eta 0:00:06\n",
      "   ----------------------------------- ---- 29.4/32.9 MB 616.2 kB/s eta 0:00:06\n",
      "   ----------------------------------- ---- 29.4/32.9 MB 616.2 kB/s eta 0:00:06\n",
      "   ----------------------------------- ---- 29.4/32.9 MB 616.2 kB/s eta 0:00:06\n",
      "   ------------------------------------ --- 29.6/32.9 MB 606.4 kB/s eta 0:00:06\n",
      "   ------------------------------------ --- 30.1/32.9 MB 614.9 kB/s eta 0:00:05\n",
      "   ------------------------------------- -- 30.4/32.9 MB 620.4 kB/s eta 0:00:04\n",
      "   ------------------------------------- -- 30.7/32.9 MB 613.6 kB/s eta 0:00:04\n",
      "   ------------------------------------- -- 30.7/32.9 MB 613.6 kB/s eta 0:00:04\n",
      "   ------------------------------------- -- 30.9/32.9 MB 602.9 kB/s eta 0:00:04\n",
      "   ------------------------------------- -- 31.2/32.9 MB 598.9 kB/s eta 0:00:03\n",
      "   ------------------------------------- -- 31.2/32.9 MB 598.9 kB/s eta 0:00:03\n",
      "   -------------------------------------- - 31.5/32.9 MB 599.8 kB/s eta 0:00:03\n",
      "   -------------------------------------- - 31.5/32.9 MB 599.8 kB/s eta 0:00:03\n",
      "   -------------------------------------- - 32.0/32.9 MB 602.9 kB/s eta 0:00:02\n",
      "   ---------------------------------------  32.2/32.9 MB 614.1 kB/s eta 0:00:01\n",
      "   ---------------------------------------  32.5/32.9 MB 619.4 kB/s eta 0:00:01\n",
      "   ---------------------------------------  32.5/32.9 MB 619.4 kB/s eta 0:00:01\n",
      "   ---------------------------------------  32.5/32.9 MB 619.4 kB/s eta 0:00:01\n",
      "   ---------------------------------------  32.5/32.9 MB 619.4 kB/s eta 0:00:01\n",
      "   ---------------------------------------- 32.9/32.9 MB 614.5 kB/s eta 0:00:00\n",
      "Installing collected packages: SpeechRecognition\n",
      "Successfully installed SpeechRecognition-3.14.3\n",
      "Note: you may need to restart the kernel to use updated packages.\n"
     ]
    }
   ],
   "source": [
    "%pip install SpeechRecognition"
   ]
  },
  {
   "cell_type": "code",
   "execution_count": 18,
   "id": "0b3c227d",
   "metadata": {},
   "outputs": [
    {
     "name": "stdout",
     "output_type": "stream",
     "text": [
      "speak now\n",
      "You said: Excel reproductive\n"
     ]
    }
   ],
   "source": [
    "import speech_recognition as sr\n",
    "# Initialize recognizer\n",
    "recognizer = sr.Recognizer()\n",
    "with sr.Microphone() as source:\n",
    "    print(\"speak now\")\n",
    "    audio=recognizer.listen(source)\n",
    "try:\n",
    "    text=recognizer.recognize_google(audio)\n",
    "    print(\"You said: \" + text)\n",
    "except sr.UnknownValueError:\n",
    "    print(\"Sorry, could not recognize your voice\")"
   ]
  },
  {
   "cell_type": "code",
   "execution_count": null,
   "id": "4a6ffeb5",
   "metadata": {},
   "outputs": [
    {
     "name": "stdout",
     "output_type": "stream",
     "text": [
      "Collecting gtts\n",
      "  Downloading gTTS-2.5.4-py3-none-any.whl.metadata (4.1 kB)\n",
      "Requirement already satisfied: requests<3,>=2.27 in c:\\users\\yasha\\appdata\\roaming\\python\\python311\\site-packages (from gtts) (2.32.4)\n",
      "Collecting click<8.2,>=7.1 (from gtts)\n",
      "  Downloading click-8.1.8-py3-none-any.whl.metadata (2.3 kB)\n",
      "Requirement already satisfied: colorama in c:\\users\\yasha\\appdata\\roaming\\python\\python311\\site-packages (from click<8.2,>=7.1->gtts) (0.4.6)\n",
      "Requirement already satisfied: charset_normalizer<4,>=2 in c:\\users\\yasha\\appdata\\roaming\\python\\python311\\site-packages (from requests<3,>=2.27->gtts) (3.4.2)\n",
      "Requirement already satisfied: idna<4,>=2.5 in c:\\users\\yasha\\appdata\\roaming\\python\\python311\\site-packages (from requests<3,>=2.27->gtts) (3.10)\n",
      "Requirement already satisfied: urllib3<3,>=1.21.1 in c:\\users\\yasha\\appdata\\roaming\\python\\python311\\site-packages (from requests<3,>=2.27->gtts) (2.5.0)\n",
      "Requirement already satisfied: certifi>=2017.4.17 in c:\\users\\yasha\\appdata\\roaming\\python\\python311\\site-packages (from requests<3,>=2.27->gtts) (2025.7.14)\n",
      "Downloading gTTS-2.5.4-py3-none-any.whl (29 kB)\n",
      "Downloading click-8.1.8-py3-none-any.whl (98 kB)\n",
      "Installing collected packages: click, gtts\n",
      "\n",
      "  Attempting uninstall: click\n",
      "\n",
      "    Found existing installation: click 8.2.1\n",
      "\n",
      "    Uninstalling click-8.2.1:\n",
      "\n",
      "      Successfully uninstalled click-8.2.1\n",
      "\n",
      "   ---------------------------------------- 0/2 [click]\n",
      "   ---------------------------------------- 0/2 [click]\n",
      "   ---------------------------------------- 0/2 [click]\n",
      "   ---------------------------------------- 0/2 [click]\n",
      "   -------------------- ------------------- 1/2 [gtts]\n",
      "   -------------------- ------------------- 1/2 [gtts]\n",
      "   -------------------- ------------------- 1/2 [gtts]\n",
      "   -------------------- ------------------- 1/2 [gtts]\n",
      "   ---------------------------------------- 2/2 [gtts]\n",
      "\n",
      "Successfully installed click-8.1.8 gtts-2.5.4\n",
      "Note: you may need to restart the kernel to use updated packages.\n"
     ]
    }
   ],
   "source": [
    "# %pip install gtts"
   ]
  },
  {
   "cell_type": "code",
   "execution_count": 16,
   "id": "807abcdb",
   "metadata": {},
   "outputs": [
    {
     "data": {
      "text/plain": [
       "0"
      ]
     },
     "execution_count": 16,
     "metadata": {},
     "output_type": "execute_result"
    }
   ],
   "source": [
    "# text to speech (tts)\n",
    "# pip install gtts\n",
    "from gtts import gTTS\n",
    "import os\n",
    "text=\"Upflairs is a great platform for learning\"\n",
    "tts = gTTS(text=text, lang='hi')\n",
    "tts.save(\"welcome.mp3\")\n",
    "os.system(\"start welcome.mp3\")  # This will play the audio file on Windows"
   ]
  },
  {
   "cell_type": "code",
   "execution_count": null,
   "id": "5dc57ee6",
   "metadata": {},
   "outputs": [],
   "source": []
  }
 ],
 "metadata": {
  "kernelspec": {
   "display_name": "Python 3",
   "language": "python",
   "name": "python3"
  },
  "language_info": {
   "codemirror_mode": {
    "name": "ipython",
    "version": 3
   },
   "file_extension": ".py",
   "mimetype": "text/x-python",
   "name": "python",
   "nbconvert_exporter": "python",
   "pygments_lexer": "ipython3",
   "version": "3.11.5"
  }
 },
 "nbformat": 4,
 "nbformat_minor": 5
}
