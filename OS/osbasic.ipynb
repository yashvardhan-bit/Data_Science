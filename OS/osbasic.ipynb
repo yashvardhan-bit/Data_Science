{
 "cells": [
  {
   "cell_type": "markdown",
   "id": "4e8ffe31",
   "metadata": {},
   "source": [
    "............OS..............."
   ]
  },
  {
   "cell_type": "code",
   "execution_count": 3,
   "id": "d2d52774",
   "metadata": {},
   "outputs": [
    {
     "data": {
      "text/plain": [
       "'c:\\\\Users\\\\yasha\\\\OneDrive\\\\Desktop\\\\DS1706\\\\OS'"
      ]
     },
     "execution_count": 3,
     "metadata": {},
     "output_type": "execute_result"
    }
   ],
   "source": [
    "import  os\n",
    "os.getcwd()\n",
    "\n",
    "\n"
   ]
  },
  {
   "cell_type": "code",
   "execution_count": 4,
   "id": "799b3c09",
   "metadata": {},
   "outputs": [
    {
     "data": {
      "text/plain": [
       "['amd_ags_x64.dll',\n",
       " 'anadius.cfg',\n",
       " 'anadius64.dll',\n",
       " 'CardsDLL_Win64_retail.dll',\n",
       " 'changelog.txt',\n",
       " 'Core',\n",
       " 'Data',\n",
       " 'dbdata.dll',\n",
       " 'dlcpatchstub.txt',\n",
       " 'dxcompiler.dll',\n",
       " 'dxil.dll',\n",
       " 'EAAntiCheat.cfg',\n",
       " 'EAAntiCheat.GameServiceLauncher.dll',\n",
       " 'EAAntiCheat.GameServiceLauncher.exe',\n",
       " 'EAWebKit.dll',\n",
       " 'Engine.BuildInfo.dll',\n",
       " 'Engine.MovieVLC.LibVLC.dll',\n",
       " 'Engine.Render.Core2.PlatformPcDx12.dll',\n",
       " 'Engine.Render.Core2.PlatformVulkan.dll',\n",
       " 'FakeEAACLauncher',\n",
       " 'Fifa 23 Official Soundtrack',\n",
       " 'FIFA 23 VOLTA Football Official Soundtrack',\n",
       " 'FIFA 23 World Cup Ultimate FIFA Soundtrack',\n",
       " 'FIFA23.exe',\n",
       " 'FIFALiveEditor.DLL',\n",
       " 'filters',\n",
       " 'Lang',\n",
       " 'Launcher.exe',\n",
       " 'launcher_imgui.ini',\n",
       " 'LiveEditorClearRegistry.reg',\n",
       " 'Logs',\n",
       " 'lua',\n",
       " 'offset_cache.json',\n",
       " 'oo2core_9_win64.dll',\n",
       " 'oo2ext_9_win64.dll',\n",
       " 'Patch',\n",
       " 'preloader_l.dll',\n",
       " 'Scripts',\n",
       " 'Support',\n",
       " 'sysdll_Win64_retail.dll',\n",
       " 'unins000.dat',\n",
       " 'unins000.exe',\n",
       " 'x64',\n",
       " '_Commentaries Switcher',\n",
       " '_Redist',\n",
       " '_World Cup LE Fix']"
      ]
     },
     "execution_count": 4,
     "metadata": {},
     "output_type": "execute_result"
    }
   ],
   "source": [
    "os.listdir(r\"X:\\Games\\FIFA 23\")"
   ]
  },
  {
   "cell_type": "code",
   "execution_count": 5,
   "id": "03b1ce25",
   "metadata": {},
   "outputs": [],
   "source": [
    "os.mkdir(\"YASHVARDHAN\") \n",
    "#make directory"
   ]
  },
  {
   "cell_type": "code",
   "execution_count": 6,
   "id": "f0380754",
   "metadata": {},
   "outputs": [],
   "source": [
    "os.rename(\"YASHVARDHAN\",\"SHEKHAWAT\")"
   ]
  },
  {
   "cell_type": "code",
   "execution_count": 7,
   "id": "d24fed78",
   "metadata": {},
   "outputs": [],
   "source": [
    "os.removedirs(\"SHEKHAWAT\")\n",
    "#remove directory"
   ]
  },
  {
   "cell_type": "code",
   "execution_count": 8,
   "id": "75eef2af",
   "metadata": {},
   "outputs": [
    {
     "data": {
      "text/plain": [
       "True"
      ]
     },
     "execution_count": 8,
     "metadata": {},
     "output_type": "execute_result"
    }
   ],
   "source": [
    "os.path.isdir(\"X:\\Games\\FIFA 23\")\n"
   ]
  },
  {
   "cell_type": "code",
   "execution_count": 9,
   "id": "2dd0cd65",
   "metadata": {},
   "outputs": [
    {
     "data": {
      "text/plain": [
       "False"
      ]
     },
     "execution_count": 9,
     "metadata": {},
     "output_type": "execute_result"
    }
   ],
   "source": [
    "os.path.isfile(\"X:\\Games\\FIFA 23\")"
   ]
  },
  {
   "cell_type": "code",
   "execution_count": 10,
   "id": "8b6ab904",
   "metadata": {},
   "outputs": [
    {
     "data": {
      "text/plain": [
       "['osbasic.ipynb', 'YASH']"
      ]
     },
     "execution_count": 10,
     "metadata": {},
     "output_type": "execute_result"
    }
   ],
   "source": [
    "path1=r\"C:\\Users\\yasha\\OneDrive\\Desktop\\DS1706\\Python\"\n",
    "path2=r\"C:\\Users\\yasha\\OneDrive\\Desktop\\DS1706\\OS\"\n",
    "path=os.path.join(path1, path2)\n",
    "os.listdir(path)\n",
    "\n"
   ]
  }
 ],
 "metadata": {
  "kernelspec": {
   "display_name": "Python 3",
   "language": "python",
   "name": "python3"
  },
  "language_info": {
   "codemirror_mode": {
    "name": "ipython",
    "version": 3
   },
   "file_extension": ".py",
   "mimetype": "text/x-python",
   "name": "python",
   "nbconvert_exporter": "python",
   "pygments_lexer": "ipython3",
   "version": "3.11.5"
  }
 },
 "nbformat": 4,
 "nbformat_minor": 5
}
